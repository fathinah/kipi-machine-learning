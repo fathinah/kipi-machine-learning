{
 "cells": [
  {
   "cell_type": "markdown",
   "metadata": {},
   "source": [
    "# Alghi Exploration Scripts\n",
    "\n",
    "Helloow it's me"
   ]
  },
  {
   "cell_type": "code",
   "execution_count": 1,
   "metadata": {},
   "outputs": [
    {
     "name": "stdout",
     "output_type": "stream",
     "text": [
      "2.4.1\n"
     ]
    }
   ],
   "source": [
    "import pandas as pd\n",
    "import numpy as np\n",
    "import plotly.offline as py\n",
    "import matplotlib.pyplot as plt\n",
    "import seaborn as sns\n",
    "import scipy.stats as scp\n",
    "import random\n",
    "\n",
    "from pandas.api.types import is_string_dtype\n",
    "from pandas.api.types import is_numeric_dtype\n",
    "\n",
    "from sklearn.preprocessing import LabelEncoder, Normalizer, StandardScaler, MinMaxScaler, scale\n",
    "from sklearn.model_selection import train_test_split\n",
    "from sklearn.linear_model import Ridge, RidgeCV, Lasso, LassoCV, LinearRegression\n",
    "from sklearn.metrics import mean_squared_error\n",
    "from sklearn.metrics import mean_absolute_error\n",
    "from sklearn.metrics import r2_score\n",
    "\n",
    "import statsmodels.api as sm\n",
    "\n",
    "import tensorflow as tf\n",
    "\n",
    "print(tf.__version__)"
   ]
  },
  {
   "cell_type": "markdown",
   "metadata": {},
   "source": [
    "# VAERS"
   ]
  },
  {
   "cell_type": "code",
   "execution_count": 4,
   "metadata": {},
   "outputs": [
    {
     "data": {
      "text/plain": [
       "Index(['VAERS_ID', 'RECVDATE', 'STATE', 'AGE_YRS', 'CAGE_YR', 'CAGE_MO', 'SEX',\n",
       "       'RPT_DATE', 'SYMPTOM_TEXT', 'DIED', 'DATEDIED', 'L_THREAT', 'ER_VISIT',\n",
       "       'HOSPITAL', 'HOSPDAYS', 'X_STAY', 'DISABLE', 'RECOVD', 'VAX_DATE',\n",
       "       'ONSET_DATE', 'NUMDAYS', 'LAB_DATA', 'V_ADMINBY', 'V_FUNDBY',\n",
       "       'OTHER_MEDS', 'CUR_ILL', 'HISTORY', 'PRIOR_VAX', 'SPLTTYPE',\n",
       "       'FORM_VERS', 'TODAYS_DATE', 'BIRTH_DEFECT', 'OFC_VISIT', 'ER_ED_VISIT',\n",
       "       'ALLERGIES'],\n",
       "      dtype='object')"
      ]
     },
     "execution_count": 4,
     "metadata": {},
     "output_type": "execute_result"
    }
   ],
   "source": [
    "vaers_df = pd.read_csv(filepath_or_buffer='../data/raw/VAERS/2021VAERSDATA.csv', sep=',', encoding = \"ISO-8859-1\", dtype={\n",
    "    'RPT_DATE': str,\n",
    "    'ER_VISIT': str,\n",
    "    'V_FUNDBY': str,\n",
    "    'SYMPTOM_TEXT': str\n",
    "})\n",
    "vaers_df.columns"
   ]
  },
  {
   "cell_type": "code",
   "execution_count": 5,
   "metadata": {},
   "outputs": [
    {
     "name": "stdout",
     "output_type": "stream",
     "text": [
      "(108191, 35)\n"
     ]
    }
   ],
   "source": [
    "print(vaers_df.shape)"
   ]
  },
  {
   "cell_type": "markdown",
   "metadata": {},
   "source": [
    "### Column Descriptions\n",
    "\n",
    "Refer to VAERSDataUseGuide_November2020.pdf."
   ]
  },
  {
   "cell_type": "markdown",
   "metadata": {},
   "source": [
    "Sample 1:"
   ]
  },
  {
   "cell_type": "code",
   "execution_count": 6,
   "metadata": {},
   "outputs": [
    {
     "data": {
      "text/plain": [
       "VAERS_ID                                                   916600\n",
       "RECVDATE                                               01/01/2021\n",
       "STATE                                                          TX\n",
       "AGE_YRS                                                        33\n",
       "CAGE_YR                                                        33\n",
       "CAGE_MO                                                       NaN\n",
       "SEX                                                             F\n",
       "RPT_DATE                                                      NaN\n",
       "SYMPTOM_TEXT    Right side of epiglottis swelled up and hinder...\n",
       "DIED                                                          NaN\n",
       "DATEDIED                                                      NaN\n",
       "L_THREAT                                                      NaN\n",
       "ER_VISIT                                                      NaN\n",
       "HOSPITAL                                                      NaN\n",
       "HOSPDAYS                                                      NaN\n",
       "X_STAY                                                        NaN\n",
       "DISABLE                                                       NaN\n",
       "RECOVD                                                          Y\n",
       "VAX_DATE                                               12/28/2020\n",
       "ONSET_DATE                                             12/30/2020\n",
       "NUMDAYS                                                         2\n",
       "LAB_DATA                                                     None\n",
       "V_ADMINBY                                                     PVT\n",
       "V_FUNDBY                                                      NaN\n",
       "OTHER_MEDS                                                   None\n",
       "CUR_ILL                                                      None\n",
       "HISTORY                                                      None\n",
       "PRIOR_VAX                                                     NaN\n",
       "SPLTTYPE                                                      NaN\n",
       "FORM_VERS                                                       2\n",
       "TODAYS_DATE                                            01/01/2021\n",
       "BIRTH_DEFECT                                                  NaN\n",
       "OFC_VISIT                                                       Y\n",
       "ER_ED_VISIT                                                   NaN\n",
       "ALLERGIES                                       Pcn and bee venom\n",
       "Name: 0, dtype: object"
      ]
     },
     "execution_count": 6,
     "metadata": {},
     "output_type": "execute_result"
    }
   ],
   "source": [
    "vaers_df.iloc[0]"
   ]
  },
  {
   "cell_type": "code",
   "execution_count": 7,
   "metadata": {},
   "outputs": [
    {
     "data": {
      "text/plain": [
       "'Right side of epiglottis swelled up and hinder swallowing pictures taken Benadryl Tylenol taken'"
      ]
     },
     "execution_count": 7,
     "metadata": {},
     "output_type": "execute_result"
    }
   ],
   "source": [
    "vaers_df.iloc[0]['SYMPTOM_TEXT']"
   ]
  },
  {
   "cell_type": "markdown",
   "metadata": {},
   "source": [
    "Sample 2:"
   ]
  },
  {
   "cell_type": "code",
   "execution_count": 8,
   "metadata": {},
   "outputs": [
    {
     "data": {
      "text/plain": [
       "VAERS_ID                                                   916603\n",
       "RECVDATE                                               01/01/2021\n",
       "STATE                                                          WA\n",
       "AGE_YRS                                                        58\n",
       "CAGE_YR                                                        58\n",
       "CAGE_MO                                                       NaN\n",
       "SEX                                                             F\n",
       "RPT_DATE                                                      NaN\n",
       "SYMPTOM_TEXT    extreme fatigue, dizziness,. could not lift my...\n",
       "DIED                                                          NaN\n",
       "DATEDIED                                                      NaN\n",
       "L_THREAT                                                      NaN\n",
       "ER_VISIT                                                      NaN\n",
       "HOSPITAL                                                      NaN\n",
       "HOSPDAYS                                                      NaN\n",
       "X_STAY                                                        NaN\n",
       "DISABLE                                                       NaN\n",
       "RECOVD                                                          Y\n",
       "VAX_DATE                                               12/23/2020\n",
       "ONSET_DATE                                             12/23/2020\n",
       "NUMDAYS                                                         0\n",
       "LAB_DATA                                                     none\n",
       "V_ADMINBY                                                     WRK\n",
       "V_FUNDBY                                                      NaN\n",
       "OTHER_MEDS                                                   none\n",
       "CUR_ILL                                          kidney infection\n",
       "HISTORY         diverticulitis, mitral valve prolapse, osteoar...\n",
       "PRIOR_VAX       got measles from measel shot, mums from mumps ...\n",
       "SPLTTYPE                                                      NaN\n",
       "FORM_VERS                                                       2\n",
       "TODAYS_DATE                                            01/01/2021\n",
       "BIRTH_DEFECT                                                  NaN\n",
       "OFC_VISIT                                                     NaN\n",
       "ER_ED_VISIT                                                   NaN\n",
       "ALLERGIES       Diclofenac, novacaine, lidocaine, pickles, tom...\n",
       "Name: 3, dtype: object"
      ]
     },
     "execution_count": 8,
     "metadata": {},
     "output_type": "execute_result"
    }
   ],
   "source": [
    "vaers_df.iloc[3]"
   ]
  },
  {
   "cell_type": "code",
   "execution_count": 9,
   "metadata": {},
   "outputs": [
    {
     "data": {
      "text/plain": [
       "'extreme fatigue, dizziness,. could not lift my left arm for 72 hours'"
      ]
     },
     "execution_count": 9,
     "metadata": {},
     "output_type": "execute_result"
    }
   ],
   "source": [
    "vaers_df.iloc[3]['SYMPTOM_TEXT']"
   ]
  },
  {
   "cell_type": "code",
   "execution_count": 10,
   "metadata": {},
   "outputs": [
    {
     "data": {
      "text/plain": [
       "'diverticulitis, mitral valve prolapse, osteoarthritis'"
      ]
     },
     "execution_count": 10,
     "metadata": {},
     "output_type": "execute_result"
    }
   ],
   "source": [
    "vaers_df.iloc[3]['HISTORY']"
   ]
  },
  {
   "cell_type": "code",
   "execution_count": 11,
   "metadata": {},
   "outputs": [
    {
     "data": {
      "text/plain": [
       "'got measles from measel shot, mums from mumps shot, headaches and nausea from flu shot'"
      ]
     },
     "execution_count": 11,
     "metadata": {},
     "output_type": "execute_result"
    }
   ],
   "source": [
    "vaers_df.iloc[3]['PRIOR_VAX']"
   ]
  },
  {
   "cell_type": "markdown",
   "metadata": {},
   "source": [
    "Sample 3:"
   ]
  },
  {
   "cell_type": "code",
   "execution_count": 12,
   "metadata": {},
   "outputs": [
    {
     "data": {
      "text/html": [
       "<div>\n",
       "<style scoped>\n",
       "    .dataframe tbody tr th:only-of-type {\n",
       "        vertical-align: middle;\n",
       "    }\n",
       "\n",
       "    .dataframe tbody tr th {\n",
       "        vertical-align: top;\n",
       "    }\n",
       "\n",
       "    .dataframe thead th {\n",
       "        text-align: right;\n",
       "    }\n",
       "</style>\n",
       "<table border=\"1\" class=\"dataframe\">\n",
       "  <thead>\n",
       "    <tr style=\"text-align: right;\">\n",
       "      <th></th>\n",
       "      <th>VAERS_ID</th>\n",
       "      <th>RECVDATE</th>\n",
       "      <th>STATE</th>\n",
       "      <th>AGE_YRS</th>\n",
       "      <th>CAGE_YR</th>\n",
       "      <th>CAGE_MO</th>\n",
       "      <th>SEX</th>\n",
       "      <th>RPT_DATE</th>\n",
       "      <th>SYMPTOM_TEXT</th>\n",
       "      <th>DIED</th>\n",
       "      <th>...</th>\n",
       "      <th>CUR_ILL</th>\n",
       "      <th>HISTORY</th>\n",
       "      <th>PRIOR_VAX</th>\n",
       "      <th>SPLTTYPE</th>\n",
       "      <th>FORM_VERS</th>\n",
       "      <th>TODAYS_DATE</th>\n",
       "      <th>BIRTH_DEFECT</th>\n",
       "      <th>OFC_VISIT</th>\n",
       "      <th>ER_ED_VISIT</th>\n",
       "      <th>ALLERGIES</th>\n",
       "    </tr>\n",
       "  </thead>\n",
       "  <tbody>\n",
       "    <tr>\n",
       "      <th>30</th>\n",
       "      <td>916632</td>\n",
       "      <td>01/01/2021</td>\n",
       "      <td>NaN</td>\n",
       "      <td>0.08</td>\n",
       "      <td>0.0</td>\n",
       "      <td>0.1</td>\n",
       "      <td>M</td>\n",
       "      <td>NaN</td>\n",
       "      <td>Baby had regular 6 week wellness check-up and ...</td>\n",
       "      <td>NaN</td>\n",
       "      <td>...</td>\n",
       "      <td>N/a</td>\n",
       "      <td>NaN</td>\n",
       "      <td>NaN</td>\n",
       "      <td>NaN</td>\n",
       "      <td>2</td>\n",
       "      <td>01/01/2021</td>\n",
       "      <td>NaN</td>\n",
       "      <td>NaN</td>\n",
       "      <td>Y</td>\n",
       "      <td>N/a</td>\n",
       "    </tr>\n",
       "    <tr>\n",
       "      <th>105</th>\n",
       "      <td>916710</td>\n",
       "      <td>01/01/2021</td>\n",
       "      <td>MO</td>\n",
       "      <td>23.00</td>\n",
       "      <td>23.0</td>\n",
       "      <td>NaN</td>\n",
       "      <td>F</td>\n",
       "      <td>NaN</td>\n",
       "      <td>Acute appendicitis, onset morning of 1/1/2021 ...</td>\n",
       "      <td>NaN</td>\n",
       "      <td>...</td>\n",
       "      <td>NaN</td>\n",
       "      <td>Hypothyroidism</td>\n",
       "      <td>NaN</td>\n",
       "      <td>NaN</td>\n",
       "      <td>2</td>\n",
       "      <td>01/01/2021</td>\n",
       "      <td>NaN</td>\n",
       "      <td>NaN</td>\n",
       "      <td>Y</td>\n",
       "      <td>NKDA</td>\n",
       "    </tr>\n",
       "    <tr>\n",
       "      <th>188</th>\n",
       "      <td>916803</td>\n",
       "      <td>01/01/2021</td>\n",
       "      <td>LA</td>\n",
       "      <td>78.00</td>\n",
       "      <td>78.0</td>\n",
       "      <td>NaN</td>\n",
       "      <td>M</td>\n",
       "      <td>NaN</td>\n",
       "      <td>respitory colase</td>\n",
       "      <td>Y</td>\n",
       "      <td>...</td>\n",
       "      <td>none</td>\n",
       "      <td>large T-cell lymphoma, HTN, Gout,  recieving t...</td>\n",
       "      <td>NaN</td>\n",
       "      <td>NaN</td>\n",
       "      <td>2</td>\n",
       "      <td>01/01/2021</td>\n",
       "      <td>NaN</td>\n",
       "      <td>NaN</td>\n",
       "      <td>NaN</td>\n",
       "      <td>N?A</td>\n",
       "    </tr>\n",
       "    <tr>\n",
       "      <th>193</th>\n",
       "      <td>916809</td>\n",
       "      <td>01/01/2021</td>\n",
       "      <td>WA</td>\n",
       "      <td>40.00</td>\n",
       "      <td>40.0</td>\n",
       "      <td>NaN</td>\n",
       "      <td>F</td>\n",
       "      <td>NaN</td>\n",
       "      <td>CAREGIVER RECEIVED FIRST VACCINE DOSE AND SOON...</td>\n",
       "      <td>NaN</td>\n",
       "      <td>...</td>\n",
       "      <td>None</td>\n",
       "      <td>NaN</td>\n",
       "      <td>NaN</td>\n",
       "      <td>NaN</td>\n",
       "      <td>2</td>\n",
       "      <td>01/01/2021</td>\n",
       "      <td>NaN</td>\n",
       "      <td>NaN</td>\n",
       "      <td>Y</td>\n",
       "      <td>None</td>\n",
       "    </tr>\n",
       "    <tr>\n",
       "      <th>218</th>\n",
       "      <td>916836</td>\n",
       "      <td>01/01/2021</td>\n",
       "      <td>MD</td>\n",
       "      <td>55.00</td>\n",
       "      <td>55.0</td>\n",
       "      <td>NaN</td>\n",
       "      <td>M</td>\n",
       "      <td>NaN</td>\n",
       "      <td>Patient is a 55 year old male with no past med...</td>\n",
       "      <td>NaN</td>\n",
       "      <td>...</td>\n",
       "      <td>Pt reported frequent urination for several months</td>\n",
       "      <td>None</td>\n",
       "      <td>NaN</td>\n",
       "      <td>NaN</td>\n",
       "      <td>2</td>\n",
       "      <td>01/01/2021</td>\n",
       "      <td>NaN</td>\n",
       "      <td>NaN</td>\n",
       "      <td>NaN</td>\n",
       "      <td>No known allergies</td>\n",
       "    </tr>\n",
       "  </tbody>\n",
       "</table>\n",
       "<p>5 rows × 35 columns</p>\n",
       "</div>"
      ],
      "text/plain": [
       "     VAERS_ID    RECVDATE STATE  AGE_YRS  CAGE_YR  CAGE_MO SEX RPT_DATE  \\\n",
       "30     916632  01/01/2021   NaN     0.08      0.0      0.1   M      NaN   \n",
       "105    916710  01/01/2021    MO    23.00     23.0      NaN   F      NaN   \n",
       "188    916803  01/01/2021    LA    78.00     78.0      NaN   M      NaN   \n",
       "193    916809  01/01/2021    WA    40.00     40.0      NaN   F      NaN   \n",
       "218    916836  01/01/2021    MD    55.00     55.0      NaN   M      NaN   \n",
       "\n",
       "                                          SYMPTOM_TEXT DIED  ...  \\\n",
       "30   Baby had regular 6 week wellness check-up and ...  NaN  ...   \n",
       "105  Acute appendicitis, onset morning of 1/1/2021 ...  NaN  ...   \n",
       "188                                   respitory colase    Y  ...   \n",
       "193  CAREGIVER RECEIVED FIRST VACCINE DOSE AND SOON...  NaN  ...   \n",
       "218  Patient is a 55 year old male with no past med...  NaN  ...   \n",
       "\n",
       "                                               CUR_ILL  \\\n",
       "30                                                 N/a   \n",
       "105                                                NaN   \n",
       "188                                               none   \n",
       "193                                               None   \n",
       "218  Pt reported frequent urination for several months   \n",
       "\n",
       "                                               HISTORY PRIOR_VAX SPLTTYPE  \\\n",
       "30                                                 NaN       NaN      NaN   \n",
       "105                                     Hypothyroidism       NaN      NaN   \n",
       "188  large T-cell lymphoma, HTN, Gout,  recieving t...       NaN      NaN   \n",
       "193                                                NaN       NaN      NaN   \n",
       "218                                               None       NaN      NaN   \n",
       "\n",
       "     FORM_VERS TODAYS_DATE BIRTH_DEFECT OFC_VISIT ER_ED_VISIT  \\\n",
       "30           2  01/01/2021          NaN       NaN           Y   \n",
       "105          2  01/01/2021          NaN       NaN           Y   \n",
       "188          2  01/01/2021          NaN       NaN         NaN   \n",
       "193          2  01/01/2021          NaN       NaN           Y   \n",
       "218          2  01/01/2021          NaN       NaN         NaN   \n",
       "\n",
       "              ALLERGIES  \n",
       "30                  N/a  \n",
       "105                NKDA  \n",
       "188                 N?A  \n",
       "193                None  \n",
       "218  No known allergies  \n",
       "\n",
       "[5 rows x 35 columns]"
      ]
     },
     "execution_count": 12,
     "metadata": {},
     "output_type": "execute_result"
    }
   ],
   "source": [
    "vaers_df[vaers_df['HOSPITAL'] == 'Y'].head()"
   ]
  },
  {
   "cell_type": "code",
   "execution_count": 13,
   "metadata": {},
   "outputs": [
    {
     "data": {
      "text/plain": [
       "VAERS_ID                                                   916632\n",
       "RECVDATE                                               01/01/2021\n",
       "STATE                                                         NaN\n",
       "AGE_YRS                                                      0.08\n",
       "CAGE_YR                                                         0\n",
       "CAGE_MO                                                       0.1\n",
       "SEX                                                             M\n",
       "RPT_DATE                                                      NaN\n",
       "SYMPTOM_TEXT    Baby had regular 6 week wellness check-up and ...\n",
       "DIED                                                          NaN\n",
       "DATEDIED                                                      NaN\n",
       "L_THREAT                                                        Y\n",
       "ER_VISIT                                                      NaN\n",
       "HOSPITAL                                                        Y\n",
       "HOSPDAYS                                                      NaN\n",
       "X_STAY                                                        NaN\n",
       "DISABLE                                                       NaN\n",
       "RECOVD                                                          Y\n",
       "VAX_DATE                                               07/01/1994\n",
       "ONSET_DATE                                             07/01/1994\n",
       "NUMDAYS                                                         0\n",
       "LAB_DATA        Many test were done at the hospital and doctor...\n",
       "V_ADMINBY                                                     PVT\n",
       "V_FUNDBY                                                      NaN\n",
       "OTHER_MEDS                                                    N/a\n",
       "CUR_ILL                                                       N/a\n",
       "HISTORY                                                       NaN\n",
       "PRIOR_VAX                                                     NaN\n",
       "SPLTTYPE                                                      NaN\n",
       "FORM_VERS                                                       2\n",
       "TODAYS_DATE                                            01/01/2021\n",
       "BIRTH_DEFECT                                                  NaN\n",
       "OFC_VISIT                                                     NaN\n",
       "ER_ED_VISIT                                                     Y\n",
       "ALLERGIES                                                     N/a\n",
       "Name: 30, dtype: object"
      ]
     },
     "execution_count": 13,
     "metadata": {},
     "output_type": "execute_result"
    }
   ],
   "source": [
    "vaers_df.iloc[30]"
   ]
  },
  {
   "cell_type": "code",
   "execution_count": 14,
   "metadata": {
    "scrolled": true
   },
   "outputs": [
    {
     "data": {
      "text/plain": [
       "'Baby had regular 6 week wellness check-up and received all reccomended vaccinations for 6 week old baby.   Straight after vaccination baby went to sleep, he then woke up 1 hour after with a screaming cry as if something was terribly wrong,  he then started vomiting uncontrollably (like a water fountain) and was in and out of consciousness, very lethargic, breathing started to reduce drastically, baby was floppy. Baby was handed to paramedics and rushed to emergency.    After event of vaccine reaction, doctors encouraged to continue with vaccinations,  baby was continuously in and out of hospital, suffered from stomach problems/pain as a todler and would notice todler seeking anything cold, usually resulting to lying down on stomach  on the cold floor because stomach was always burning hot. He would vomit regularly, suffer from regular nose bleeds for no apparent reason, behavioural/anger issues were displayed, headaches, asthma, and dry skin.'"
      ]
     },
     "execution_count": 14,
     "metadata": {},
     "output_type": "execute_result"
    }
   ],
   "source": [
    "vaers_df.iloc[30]['SYMPTOM_TEXT']"
   ]
  },
  {
   "cell_type": "code",
   "execution_count": 15,
   "metadata": {},
   "outputs": [
    {
     "data": {
      "text/plain": [
       "100092"
      ]
     },
     "execution_count": 15,
     "metadata": {},
     "output_type": "execute_result"
    }
   ],
   "source": [
    "vaers_df['HOSPITAL'].isna().sum()"
   ]
  },
  {
   "cell_type": "code",
   "execution_count": 16,
   "metadata": {},
   "outputs": [
    {
     "data": {
      "text/plain": [
       "array([nan, 'Y'], dtype=object)"
      ]
     },
     "execution_count": 16,
     "metadata": {},
     "output_type": "execute_result"
    }
   ],
   "source": [
    "vaers_df['HOSPITAL'].unique()"
   ]
  },
  {
   "cell_type": "code",
   "execution_count": 17,
   "metadata": {},
   "outputs": [
    {
     "data": {
      "text/plain": [
       "108176"
      ]
     },
     "execution_count": 17,
     "metadata": {},
     "output_type": "execute_result"
    }
   ],
   "source": [
    "vaers_df['ER_VISIT'].isna().sum()"
   ]
  },
  {
   "cell_type": "code",
   "execution_count": 18,
   "metadata": {},
   "outputs": [
    {
     "data": {
      "text/plain": [
       "array([nan, 'Y'], dtype=object)"
      ]
     },
     "execution_count": 18,
     "metadata": {},
     "output_type": "execute_result"
    }
   ],
   "source": [
    "vaers_df['ER_VISIT'].unique()"
   ]
  },
  {
   "cell_type": "code",
   "execution_count": 19,
   "metadata": {},
   "outputs": [
    {
     "data": {
      "text/plain": [
       "90360"
      ]
     },
     "execution_count": 19,
     "metadata": {},
     "output_type": "execute_result"
    }
   ],
   "source": [
    "vaers_df['OFC_VISIT'].isna().sum()"
   ]
  },
  {
   "cell_type": "code",
   "execution_count": 20,
   "metadata": {},
   "outputs": [
    {
     "data": {
      "text/plain": [
       "array(['Y', nan], dtype=object)"
      ]
     },
     "execution_count": 20,
     "metadata": {},
     "output_type": "execute_result"
    }
   ],
   "source": [
    "vaers_df['OFC_VISIT'].unique()"
   ]
  },
  {
   "cell_type": "code",
   "execution_count": 21,
   "metadata": {},
   "outputs": [
    {
     "data": {
      "text/plain": [
       "93638"
      ]
     },
     "execution_count": 21,
     "metadata": {},
     "output_type": "execute_result"
    }
   ],
   "source": [
    "vaers_df['ER_ED_VISIT'].isna().sum()"
   ]
  },
  {
   "cell_type": "code",
   "execution_count": 22,
   "metadata": {},
   "outputs": [
    {
     "data": {
      "text/plain": [
       "array([nan, 'Y'], dtype=object)"
      ]
     },
     "execution_count": 22,
     "metadata": {},
     "output_type": "execute_result"
    }
   ],
   "source": [
    "vaers_df['ER_ED_VISIT'].unique()"
   ]
  },
  {
   "cell_type": "code",
   "execution_count": 23,
   "metadata": {},
   "outputs": [
    {
     "data": {
      "text/plain": [
       "Index(['VAERS_ID', 'RECVDATE', 'STATE', 'AGE_YRS', 'CAGE_YR', 'CAGE_MO', 'SEX',\n",
       "       'RPT_DATE', 'SYMPTOM_TEXT', 'DIED', 'DATEDIED', 'L_THREAT', 'ER_VISIT',\n",
       "       'HOSPITAL', 'HOSPDAYS', 'X_STAY', 'DISABLE', 'RECOVD', 'VAX_DATE',\n",
       "       'ONSET_DATE', 'NUMDAYS', 'LAB_DATA', 'V_ADMINBY', 'V_FUNDBY',\n",
       "       'OTHER_MEDS', 'CUR_ILL', 'HISTORY', 'PRIOR_VAX', 'SPLTTYPE',\n",
       "       'FORM_VERS', 'TODAYS_DATE', 'BIRTH_DEFECT', 'OFC_VISIT', 'ER_ED_VISIT',\n",
       "       'ALLERGIES'],\n",
       "      dtype='object')"
      ]
     },
     "execution_count": 23,
     "metadata": {},
     "output_type": "execute_result"
    }
   ],
   "source": [
    "vaers_df.columns"
   ]
  },
  {
   "cell_type": "code",
   "execution_count": 24,
   "metadata": {},
   "outputs": [
    {
     "data": {
      "text/plain": [
       "72458"
      ]
     },
     "execution_count": 24,
     "metadata": {},
     "output_type": "execute_result"
    }
   ],
   "source": [
    "vaers_df[['DIED', 'L_THREAT', 'ER_VISIT', 'HOSPITAL', 'DISABLE', 'BIRTH_DEFECT', 'OFC_VISIT', 'ER_ED_VISIT']].isna().T.all().sum()"
   ]
  },
  {
   "cell_type": "code",
   "execution_count": 25,
   "metadata": {},
   "outputs": [
    {
     "data": {
      "text/plain": [
       "0         33.0\n",
       "1         73.0\n",
       "2         23.0\n",
       "3         58.0\n",
       "4         47.0\n",
       "5         44.0\n",
       "6         50.0\n",
       "7         33.0\n",
       "8         71.0\n",
       "9         18.0\n",
       "10        33.0\n",
       "11        71.0\n",
       "12        40.0\n",
       "13        29.0\n",
       "14        38.0\n",
       "15        35.0\n",
       "16        24.0\n",
       "17        28.0\n",
       "18        65.0\n",
       "19        25.0\n",
       "20        22.0\n",
       "21        31.0\n",
       "22        27.0\n",
       "23        41.0\n",
       "24        63.0\n",
       "25        49.0\n",
       "26        33.0\n",
       "27        61.0\n",
       "28        56.0\n",
       "29        25.0\n",
       "          ... \n",
       "108161     NaN\n",
       "108162    45.0\n",
       "108163    54.0\n",
       "108164    95.0\n",
       "108165     NaN\n",
       "108166    57.0\n",
       "108167     NaN\n",
       "108168    56.0\n",
       "108169     NaN\n",
       "108170     NaN\n",
       "108171     NaN\n",
       "108172     NaN\n",
       "108173     NaN\n",
       "108174     NaN\n",
       "108175     NaN\n",
       "108176     NaN\n",
       "108177    83.0\n",
       "108178     NaN\n",
       "108179    74.0\n",
       "108180     NaN\n",
       "108181     NaN\n",
       "108182    60.0\n",
       "108183    69.0\n",
       "108184    62.0\n",
       "108185    27.0\n",
       "108186    73.0\n",
       "108187     NaN\n",
       "108188    25.0\n",
       "108189    18.0\n",
       "108190    80.0\n",
       "Name: AGE_YRS, Length: 108191, dtype: float64"
      ]
     },
     "execution_count": 25,
     "metadata": {},
     "output_type": "execute_result"
    }
   ],
   "source": [
    "vaers_df['AGE_YRS']"
   ]
  },
  {
   "cell_type": "code",
   "execution_count": 26,
   "metadata": {},
   "outputs": [
    {
     "data": {
      "text/plain": [
       "array(['None',\n",
       "       'Patient residing at nursing facility. See patients chart.',\n",
       "       'kidney infection', ...,\n",
       "       'Alcohol use (Moderate to light.); Essential hypertension; Food allergy; Nonsmoker',\n",
       "       'Alcohol use (Once a week.); Non-smoker; Seasonal allergy',\n",
       "       'Pollen allergy'], dtype=object)"
      ]
     },
     "execution_count": 26,
     "metadata": {},
     "output_type": "execute_result"
    }
   ],
   "source": [
    "vaers_df['CUR_ILL'].unique()"
   ]
  },
  {
   "cell_type": "markdown",
   "metadata": {},
   "source": [
    "Machine Learning Features and Target\n",
    "\n",
    "Features:\n",
    "\n",
    "- AGE_YRS (float)\n",
    "- SEX ('F', 'M', 'U')\n",
    "- SYMPTOM_TEXT (text)\n",
    "\n",
    "Target:\n",
    "\n",
    "- 0 if any of 'DIED', 'L_THREAT', 'ER_VISIT', 'HOSPITAL', 'DISABLE', 'BIRTH_DEFECT', 'OFC_VISIT', 'ER_ED_VISIT' is Y\n",
    "- 1 otherwise"
   ]
  },
  {
   "cell_type": "markdown",
   "metadata": {},
   "source": [
    "### SYMPTOM_TEXT analysis (how dirty is the data, etc.)"
   ]
  },
  {
   "cell_type": "code",
   "execution_count": 67,
   "metadata": {},
   "outputs": [
    {
     "data": {
      "text/plain": [
       "array(['On day 9 following the vaccination I noticed a red raised itchy patch at the vaccination site approximately 2 in X 2 in. No other symptoms.'],\n",
       "      dtype='<U139')"
      ]
     },
     "metadata": {},
     "output_type": "display_data"
    },
    {
     "data": {
      "text/plain": [
       "{'the': 1,\n",
       " 'vaccination': 2,\n",
       " '2': 3,\n",
       " 'in': 4,\n",
       " 'on': 5,\n",
       " 'day': 6,\n",
       " '9': 7,\n",
       " 'following': 8,\n",
       " 'i': 9,\n",
       " 'noticed': 10,\n",
       " 'a': 11,\n",
       " 'red': 12,\n",
       " 'raised': 13,\n",
       " 'itchy': 14,\n",
       " 'patch': 15,\n",
       " 'at': 16,\n",
       " 'site': 17,\n",
       " 'approximately': 18,\n",
       " 'x': 19,\n",
       " 'no': 20,\n",
       " 'other': 21,\n",
       " 'symptoms': 22}"
      ]
     },
     "metadata": {},
     "output_type": "display_data"
    }
   ],
   "source": [
    "trunc_type=\"post\"\n",
    "\n",
    "X_sample = X = vaers_df[['SYMPTOM_TEXT']]\n",
    "X_sample = X_sample.iloc[8:9]\n",
    "X_sample = np.array(X_sample).reshape(X_sample.shape[0]).astype('str')\n",
    "\n",
    "tokenizer = Tokenizer()\n",
    "tokenizer.fit_on_texts(X_sample)\n",
    "word_index = tokenizer.word_index\n",
    "sequences = tokenizer.texts_to_sequences(X_sample)\n",
    "padded = pad_sequences(sequences, truncating=trunc_type)\n",
    "\n",
    "display(X_sample)\n",
    "display(word_index)"
   ]
  },
  {
   "cell_type": "markdown",
   "metadata": {},
   "source": [
    "### Let's use only SYMPTOM_TEXT first"
   ]
  },
  {
   "cell_type": "code",
   "execution_count": 27,
   "metadata": {},
   "outputs": [
    {
     "data": {
      "text/html": [
       "<div>\n",
       "<style scoped>\n",
       "    .dataframe tbody tr th:only-of-type {\n",
       "        vertical-align: middle;\n",
       "    }\n",
       "\n",
       "    .dataframe tbody tr th {\n",
       "        vertical-align: top;\n",
       "    }\n",
       "\n",
       "    .dataframe thead th {\n",
       "        text-align: right;\n",
       "    }\n",
       "</style>\n",
       "<table border=\"1\" class=\"dataframe\">\n",
       "  <thead>\n",
       "    <tr style=\"text-align: right;\">\n",
       "      <th></th>\n",
       "      <th>SYMPTOM_TEXT</th>\n",
       "    </tr>\n",
       "  </thead>\n",
       "  <tbody>\n",
       "    <tr>\n",
       "      <th>0</th>\n",
       "      <td>Right side of epiglottis swelled up and hinder...</td>\n",
       "    </tr>\n",
       "    <tr>\n",
       "      <th>1</th>\n",
       "      <td>Approximately 30 min post vaccination administ...</td>\n",
       "    </tr>\n",
       "    <tr>\n",
       "      <th>2</th>\n",
       "      <td>About 15 minutes after receiving the vaccine, ...</td>\n",
       "    </tr>\n",
       "    <tr>\n",
       "      <th>3</th>\n",
       "      <td>extreme fatigue, dizziness,. could not lift my...</td>\n",
       "    </tr>\n",
       "    <tr>\n",
       "      <th>4</th>\n",
       "      <td>Injection site swelling, redness, warm to the ...</td>\n",
       "    </tr>\n",
       "  </tbody>\n",
       "</table>\n",
       "</div>"
      ],
      "text/plain": [
       "                                        SYMPTOM_TEXT\n",
       "0  Right side of epiglottis swelled up and hinder...\n",
       "1  Approximately 30 min post vaccination administ...\n",
       "2  About 15 minutes after receiving the vaccine, ...\n",
       "3  extreme fatigue, dizziness,. could not lift my...\n",
       "4  Injection site swelling, redness, warm to the ..."
      ]
     },
     "metadata": {},
     "output_type": "display_data"
    },
    {
     "data": {
      "text/plain": [
       "0    False\n",
       "1    False\n",
       "2    False\n",
       "3     True\n",
       "4     True\n",
       "dtype: bool"
      ]
     },
     "metadata": {},
     "output_type": "display_data"
    }
   ],
   "source": [
    "X = vaers_df[['SYMPTOM_TEXT']]\n",
    "y = vaers_df[['DIED', 'L_THREAT', 'ER_VISIT', 'HOSPITAL', 'DISABLE', 'BIRTH_DEFECT', 'OFC_VISIT', 'ER_ED_VISIT']].isna().T.all()\n",
    "display(X.head())\n",
    "display(y.head())"
   ]
  },
  {
   "cell_type": "code",
   "execution_count": 48,
   "metadata": {},
   "outputs": [
    {
     "name": "stdout",
     "output_type": "stream",
     "text": [
      "(86552,)\n",
      "(86552,)\n",
      "[0.66955125]\n",
      "(21639,)\n",
      "(21639,)\n",
      "[0.67040991]\n"
     ]
    }
   ],
   "source": [
    "# Train-Test Split\n",
    "\n",
    "X_train, X_test, y_train, y_test = train_test_split(X, y, test_size=0.2, random_state=17)\n",
    "X_train = np.array(X_train).reshape(X_train.shape[0]).astype('str')\n",
    "X_test = np.array(X_test).reshape(X_test.shape[0]).astype('str')\n",
    "\n",
    "print(X_train.shape)\n",
    "print(y_train.shape)\n",
    "print(y_train.sum() / y_train.shape)\n",
    "print(X_test.shape)\n",
    "print(y_test.shape)\n",
    "print(y_test.sum() / y_test.shape)"
   ]
  },
  {
   "cell_type": "code",
   "execution_count": 73,
   "metadata": {},
   "outputs": [],
   "source": [
    "# Preprocess Texts\n",
    "\n",
    "vocab_size = 40000\n",
    "embedding_dim = 16\n",
    "max_length = 400\n",
    "trunc_type=\"post\"\n",
    "oov_tok = \"<OOV>\"\n",
    "\n",
    "from tensorflow.keras.preprocessing.text import Tokenizer\n",
    "from tensorflow.keras.preprocessing.sequence import pad_sequences\n",
    "\n",
    "tokenizer = Tokenizer(num_words=vocab_size, oov_token=oov_tok)\n",
    "tokenizer.fit_on_texts(X_train)\n",
    "word_index = tokenizer.word_index\n",
    "sequences = tokenizer.texts_to_sequences(X_train)\n",
    "padded = pad_sequences(sequences, maxlen=max_length, truncating=trunc_type)\n",
    "\n",
    "testing_sequences = tokenizer.texts_to_sequences(X_test)\n",
    "testing_padded = pad_sequences(testing_sequences, maxlen=max_length)"
   ]
  },
  {
   "cell_type": "code",
   "execution_count": 74,
   "metadata": {},
   "outputs": [
    {
     "data": {
      "text/plain": [
       "38991"
      ]
     },
     "execution_count": 74,
     "metadata": {},
     "output_type": "execute_result"
    }
   ],
   "source": [
    "len(word_index)"
   ]
  },
  {
   "cell_type": "code",
   "execution_count": 75,
   "metadata": {},
   "outputs": [],
   "source": [
    "# some inspirations:\n",
    "#     layer = LSTM(64)(layer)\n",
    "#     layer = Dense(256,name='FC1')(layer)\n",
    "#     layer = Activation('relu')(layer)\n",
    "#     layer = Dropout(0.5)(layer)\n",
    "#     layer = Dense(1,name='out_layer')(layer)\n",
    "#     layer = Activation('sigmoid')(layer)"
   ]
  },
  {
   "cell_type": "code",
   "execution_count": 82,
   "metadata": {},
   "outputs": [
    {
     "name": "stdout",
     "output_type": "stream",
     "text": [
      "Model: \"sequential_10\"\n",
      "_________________________________________________________________\n",
      "Layer (type)                 Output Shape              Param #   \n",
      "=================================================================\n",
      "embedding_11 (Embedding)     (None, 400, 16)           640000    \n",
      "_________________________________________________________________\n",
      "bidirectional_17 (Bidirectio (None, 64)                12544     \n",
      "_________________________________________________________________\n",
      "dense_24 (Dense)             (None, 64)                4160      \n",
      "_________________________________________________________________\n",
      "dropout_8 (Dropout)          (None, 64)                0         \n",
      "_________________________________________________________________\n",
      "dense_25 (Dense)             (None, 1)                 65        \n",
      "=================================================================\n",
      "Total params: 656,769\n",
      "Trainable params: 656,769\n",
      "Non-trainable params: 0\n",
      "_________________________________________________________________\n"
     ]
    }
   ],
   "source": [
    "model = tf.keras.Sequential([\n",
    "    tf.keras.layers.Embedding(vocab_size, embedding_dim, input_length=max_length),\n",
    "    tf.keras.layers.Bidirectional(tf.keras.layers.LSTM(32)),\n",
    "    tf.keras.layers.Dense(64, activation='relu'),\n",
    "    tf.keras.layers.Dropout(0.5),\n",
    "    tf.keras.layers.Dense(1, activation='sigmoid')\n",
    "])\n",
    "model.compile(loss='binary_crossentropy',optimizer='RMSprop',metrics=['accuracy'])\n",
    "model.summary()"
   ]
  },
  {
   "cell_type": "code",
   "execution_count": 83,
   "metadata": {},
   "outputs": [
    {
     "name": "stdout",
     "output_type": "stream",
     "text": [
      "Epoch 1/10\n",
      "677/677 [==============================] - 336s 490ms/step - loss: 0.4970 - accuracy: 0.7660 - val_loss: 0.4030 - val_accuracy: 0.8372\n",
      "Epoch 2/10\n",
      "677/677 [==============================] - 330s 487ms/step - loss: 0.3738 - accuracy: 0.8444 - val_loss: 0.3775 - val_accuracy: 0.8399\n",
      "Epoch 3/10\n",
      "677/677 [==============================] - 328s 485ms/step - loss: 0.3596 - accuracy: 0.8523 - val_loss: 0.3720 - val_accuracy: 0.8422\n",
      "Epoch 4/10\n",
      "677/677 [==============================] - 323s 477ms/step - loss: 0.3483 - accuracy: 0.8573 - val_loss: 0.3701 - val_accuracy: 0.8433\n",
      "Epoch 5/10\n",
      "677/677 [==============================] - 321s 474ms/step - loss: 0.3447 - accuracy: 0.8571 - val_loss: 0.4169 - val_accuracy: 0.8012\n",
      "Epoch 6/10\n",
      "677/677 [==============================] - 330s 488ms/step - loss: 0.3425 - accuracy: 0.8597 - val_loss: 0.3800 - val_accuracy: 0.8434\n",
      "Epoch 7/10\n",
      "677/677 [==============================] - 328s 484ms/step - loss: 0.3315 - accuracy: 0.8647 - val_loss: 0.3782 - val_accuracy: 0.8384\n",
      "Epoch 8/10\n",
      "677/677 [==============================] - 342s 505ms/step - loss: 0.3284 - accuracy: 0.8677 - val_loss: 0.3791 - val_accuracy: 0.8368\n",
      "Epoch 9/10\n",
      "677/677 [==============================] - 347s 513ms/step - loss: 0.3188 - accuracy: 0.8706 - val_loss: 0.3743 - val_accuracy: 0.8407\n",
      "Epoch 10/10\n",
      "677/677 [==============================] - 348s 515ms/step - loss: 0.3130 - accuracy: 0.8739 - val_loss: 0.3751 - val_accuracy: 0.8415\n"
     ]
    }
   ],
   "source": [
    "num_epochs = 10\n",
    "history = model.fit(padded, y_train, batch_size=128, epochs=num_epochs, validation_data=(testing_padded, y_test))"
   ]
  },
  {
   "cell_type": "code",
   "execution_count": 84,
   "metadata": {},
   "outputs": [
    {
     "data": {
      "image/png": "[encoded data removed]",
      "text/plain": [
       "<Figure size 432x288 with 1 Axes>"
      ]
     },
     "metadata": {
      "needs_background": "light"
     },
     "output_type": "display_data"
    },
    {
     "data": {
      "image/png": "[encoded data removed]",
      "text/plain": [
       "<Figure size 432x288 with 1 Axes>"
      ]
     },
     "metadata": {
      "needs_background": "light"
     },
     "output_type": "display_data"
    }
   ],
   "source": [
    "def plot_graphs(history, string):\n",
    "    plt.plot(history.history[string])\n",
    "    plt.plot(history.history['val_'+string])\n",
    "    plt.xlabel(\"Epochs\")\n",
    "    plt.ylabel(string)\n",
    "    plt.legend([string, 'val_'+string])\n",
    "    plt.show()\n",
    "\n",
    "plot_graphs(history, 'accuracy')\n",
    "plot_graphs(history, 'loss')"
   ]
  },
  {
   "cell_type": "markdown",
   "metadata": {},
   "source": [
    "# Covid 19 Symptoms\n",
    "\n",
    "https://www.who.int/emergencies/diseases/novel-coronavirus-2019/question-and-answers-hub/q-a-detail/coronavirus-disease-covid-19"
   ]
  },
  {
   "cell_type": "code",
   "execution_count": 35,
   "metadata": {},
   "outputs": [
    {
     "name": "stdout",
     "output_type": "stream",
     "text": [
      "1.75\n"
     ]
    }
   ],
   "source": [
    "symptoms_list = [\n",
    "    [\"Sesak napas\", \"Kehilangan selera makan\", \"Kebingungan\", \"Nyeri atau tekanan yang terus-menerus di dada\", \"Temperatur tinggi (di atas 38 ° C)\"], # serious symptoms\n",
    "    [\"Demam\", \"Batuk kering\", \"Kelelahan\"], # common_symptoms\n",
    "    [\"Kehilangan rasa atau bau\", \"Hidung tersumbat\", \"Konjungtivitis (juga dikenal sebagai mata merah)\", \"Sakit tenggorokan\", \"Sakit kepala\", \"Nyeri otot atau sendi\", \"Berbagai jenis ruam kulit\", \"Mual atau muntah\", \"Diare\", \"Menggigil atau pusing\"],  # less common symptoms\n",
    "    [\"Iritabilitas\", \"Kebingungan\", \"Kesadaran berkurang (terkadang dikaitkan dengan kejang)\", \"Kecemasan\", \"Depresi\", \"Gangguan tidur\", \"Stroke\", \"Radang otak\", \"Delirium\", \"Kerusakan saraf\"] # lesser common symptoms\n",
    "]\n",
    "symptoms_list = [[x.lower() for x in symptoms] for symptoms in symptoms_list]\n",
    "symptoms_coeff = [1.0, 0.75, 0.5, 0.25]\n",
    "\n",
    "def analyze_symptoms_probability(user_symptoms):\n",
    "    total = 0.0\n",
    "    for symptom in user_symptoms:\n",
    "        for i in range(len(symptoms_list)):\n",
    "            if symptom.lower() in symptoms_list[i]:\n",
    "                total += symptoms_coeff[i]\n",
    "                break\n",
    "    return total\n",
    "\n",
    "print(analyze_symptoms_probability([\"demam\", \"sesak napas\"]))\n",
    "# should be 1.75"
   ]
  },
  {
   "cell_type": "code",
   "execution_count": null,
   "metadata": {},
   "outputs": [],
   "source": []
  },
  {
   "cell_type": "code",
   "execution_count": null,
   "metadata": {},
   "outputs": [],
   "source": []
  },
  {
   "cell_type": "code",
   "execution_count": null,
   "metadata": {},
   "outputs": [],
   "source": []
  },
  {
   "cell_type": "code",
   "execution_count": null,
   "metadata": {},
   "outputs": [],
   "source": []
  },
  {
   "cell_type": "code",
   "execution_count": null,
   "metadata": {},
   "outputs": [],
   "source": []
  },
  {
   "cell_type": "code",
   "execution_count": null,
   "metadata": {},
   "outputs": [],
   "source": []
  }
 ],
 "metadata": {
  "kernelspec": {
   "display_name": "Python 3",
   "language": "python",
   "name": "python3"
  },
  "language_info": {
   "codemirror_mode": {
    "name": "ipython",
    "version": 3
   },
   "file_extension": ".py",
   "mimetype": "text/x-python",
   "name": "python",
   "nbconvert_exporter": "python",
   "pygments_lexer": "ipython3",
   "version": "3.7.3"
  }
 },
 "nbformat": 4,
 "nbformat_minor": 2
}
