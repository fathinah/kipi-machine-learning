{
 "cells": [
  {
   "cell_type": "markdown",
   "metadata": {},
   "source": [
    "# Alghi Exploration Scripts\n",
    "\n",
    "Helloow it's me"
   ]
  },
  {
   "cell_type": "code",
   "execution_count": 62,
   "metadata": {},
   "outputs": [
    {
     "name": "stdout",
     "output_type": "stream",
     "text": [
      "2.4.1\n"
     ]
    }
   ],
   "source": [
    "import pandas as pd\n",
    "import numpy as np\n",
    "import plotly.offline as py\n",
    "import matplotlib.pyplot as plt\n",
    "import seaborn as sns\n",
    "import scipy.stats as scp\n",
    "import random\n",
    "\n",
    "from pandas.api.types import is_string_dtype\n",
    "from pandas.api.types import is_numeric_dtype\n",
    "\n",
    "from sklearn.preprocessing import LabelEncoder, Normalizer, StandardScaler, MinMaxScaler, scale\n",
    "from sklearn.model_selection import train_test_split\n",
    "from sklearn.linear_model import Ridge, RidgeCV, Lasso, LassoCV, LinearRegression\n",
    "from sklearn.metrics import mean_squared_error\n",
    "from sklearn.metrics import mean_absolute_error\n",
    "from sklearn.metrics import r2_score\n",
    "\n",
    "import statsmodels.api as sm\n",
    "\n",
    "import tensorflow as tf\n",
    "\n",
    "print(tf.__version__)"
   ]
  },
  {
   "cell_type": "markdown",
   "metadata": {},
   "source": [
    "# VAERS"
   ]
  },
  {
   "cell_type": "code",
   "execution_count": 63,
   "metadata": {},
   "outputs": [
    {
     "data": {
      "text/plain": [
       "Index(['VAERS_ID', 'RECVDATE', 'STATE', 'AGE_YRS', 'CAGE_YR', 'CAGE_MO', 'SEX',\n",
       "       'RPT_DATE', 'SYMPTOM_TEXT', 'DIED', 'DATEDIED', 'L_THREAT', 'ER_VISIT',\n",
       "       'HOSPITAL', 'HOSPDAYS', 'X_STAY', 'DISABLE', 'RECOVD', 'VAX_DATE',\n",
       "       'ONSET_DATE', 'NUMDAYS', 'LAB_DATA', 'V_ADMINBY', 'V_FUNDBY',\n",
       "       'OTHER_MEDS', 'CUR_ILL', 'HISTORY', 'PRIOR_VAX', 'SPLTTYPE',\n",
       "       'FORM_VERS', 'TODAYS_DATE', 'BIRTH_DEFECT', 'OFC_VISIT', 'ER_ED_VISIT',\n",
       "       'ALLERGIES'],\n",
       "      dtype='object')"
      ]
     },
     "execution_count": 63,
     "metadata": {},
     "output_type": "execute_result"
    }
   ],
   "source": [
    "vaers_df = pd.read_csv(filepath_or_buffer='../data/external/VAERS/2021VAERSDATA.csv', sep=',', encoding = \"ISO-8859-1\", dtype={\n",
    "    'RPT_DATE': str,\n",
    "    'ER_VISIT': str,\n",
    "    'V_FUNDBY': str,\n",
    "    'SYMPTOM_TEXT': str\n",
    "})\n",
    "vaers_df.columns"
   ]
  },
  {
   "cell_type": "code",
   "execution_count": 65,
   "metadata": {},
   "outputs": [
    {
     "name": "stdout",
     "output_type": "stream",
     "text": [
      "(108191, 35)\n"
     ]
    }
   ],
   "source": [
    "print(vaers_df.shape)"
   ]
  },
  {
   "cell_type": "markdown",
   "metadata": {},
   "source": [
    "### Column Descriptions\n",
    "\n",
    "Refer to VAERSDataUseGuide_November2020.pdf."
   ]
  },
  {
   "cell_type": "markdown",
   "metadata": {},
   "source": [
    "Sample 1:"
   ]
  },
  {
   "cell_type": "code",
   "execution_count": 66,
   "metadata": {},
   "outputs": [
    {
     "data": {
      "text/plain": [
       "VAERS_ID                                                   916600\n",
       "RECVDATE                                               01/01/2021\n",
       "STATE                                                          TX\n",
       "AGE_YRS                                                        33\n",
       "CAGE_YR                                                        33\n",
       "CAGE_MO                                                       NaN\n",
       "SEX                                                             F\n",
       "RPT_DATE                                                      NaN\n",
       "SYMPTOM_TEXT    Right side of epiglottis swelled up and hinder...\n",
       "DIED                                                          NaN\n",
       "DATEDIED                                                      NaN\n",
       "L_THREAT                                                      NaN\n",
       "ER_VISIT                                                      NaN\n",
       "HOSPITAL                                                      NaN\n",
       "HOSPDAYS                                                      NaN\n",
       "X_STAY                                                        NaN\n",
       "DISABLE                                                       NaN\n",
       "RECOVD                                                          Y\n",
       "VAX_DATE                                               12/28/2020\n",
       "ONSET_DATE                                             12/30/2020\n",
       "NUMDAYS                                                         2\n",
       "LAB_DATA                                                     None\n",
       "V_ADMINBY                                                     PVT\n",
       "V_FUNDBY                                                      NaN\n",
       "OTHER_MEDS                                                   None\n",
       "CUR_ILL                                                      None\n",
       "HISTORY                                                      None\n",
       "PRIOR_VAX                                                     NaN\n",
       "SPLTTYPE                                                      NaN\n",
       "FORM_VERS                                                       2\n",
       "TODAYS_DATE                                            01/01/2021\n",
       "BIRTH_DEFECT                                                  NaN\n",
       "OFC_VISIT                                                       Y\n",
       "ER_ED_VISIT                                                   NaN\n",
       "ALLERGIES                                       Pcn and bee venom\n",
       "Name: 0, dtype: object"
      ]
     },
     "execution_count": 66,
     "metadata": {},
     "output_type": "execute_result"
    }
   ],
   "source": [
    "vaers_df.iloc[0]"
   ]
  },
  {
   "cell_type": "code",
   "execution_count": 67,
   "metadata": {},
   "outputs": [
    {
     "data": {
      "text/plain": [
       "'Right side of epiglottis swelled up and hinder swallowing pictures taken Benadryl Tylenol taken'"
      ]
     },
     "execution_count": 67,
     "metadata": {},
     "output_type": "execute_result"
    }
   ],
   "source": [
    "vaers_df.iloc[0]['SYMPTOM_TEXT']"
   ]
  },
  {
   "cell_type": "markdown",
   "metadata": {},
   "source": [
    "Sample 2:"
   ]
  },
  {
   "cell_type": "code",
   "execution_count": 68,
   "metadata": {},
   "outputs": [
    {
     "data": {
      "text/plain": [
       "VAERS_ID                                                   916603\n",
       "RECVDATE                                               01/01/2021\n",
       "STATE                                                          WA\n",
       "AGE_YRS                                                        58\n",
       "CAGE_YR                                                        58\n",
       "CAGE_MO                                                       NaN\n",
       "SEX                                                             F\n",
       "RPT_DATE                                                      NaN\n",
       "SYMPTOM_TEXT    extreme fatigue, dizziness,. could not lift my...\n",
       "DIED                                                          NaN\n",
       "DATEDIED                                                      NaN\n",
       "L_THREAT                                                      NaN\n",
       "ER_VISIT                                                      NaN\n",
       "HOSPITAL                                                      NaN\n",
       "HOSPDAYS                                                      NaN\n",
       "X_STAY                                                        NaN\n",
       "DISABLE                                                       NaN\n",
       "RECOVD                                                          Y\n",
       "VAX_DATE                                               12/23/2020\n",
       "ONSET_DATE                                             12/23/2020\n",
       "NUMDAYS                                                         0\n",
       "LAB_DATA                                                     none\n",
       "V_ADMINBY                                                     WRK\n",
       "V_FUNDBY                                                      NaN\n",
       "OTHER_MEDS                                                   none\n",
       "CUR_ILL                                          kidney infection\n",
       "HISTORY         diverticulitis, mitral valve prolapse, osteoar...\n",
       "PRIOR_VAX       got measles from measel shot, mums from mumps ...\n",
       "SPLTTYPE                                                      NaN\n",
       "FORM_VERS                                                       2\n",
       "TODAYS_DATE                                            01/01/2021\n",
       "BIRTH_DEFECT                                                  NaN\n",
       "OFC_VISIT                                                     NaN\n",
       "ER_ED_VISIT                                                   NaN\n",
       "ALLERGIES       Diclofenac, novacaine, lidocaine, pickles, tom...\n",
       "Name: 3, dtype: object"
      ]
     },
     "execution_count": 68,
     "metadata": {},
     "output_type": "execute_result"
    }
   ],
   "source": [
    "vaers_df.iloc[3]"
   ]
  },
  {
   "cell_type": "code",
   "execution_count": 69,
   "metadata": {},
   "outputs": [
    {
     "data": {
      "text/plain": [
       "'extreme fatigue, dizziness,. could not lift my left arm for 72 hours'"
      ]
     },
     "execution_count": 69,
     "metadata": {},
     "output_type": "execute_result"
    }
   ],
   "source": [
    "vaers_df.iloc[3]['SYMPTOM_TEXT']"
   ]
  },
  {
   "cell_type": "code",
   "execution_count": 70,
   "metadata": {},
   "outputs": [
    {
     "data": {
      "text/plain": [
       "'diverticulitis, mitral valve prolapse, osteoarthritis'"
      ]
     },
     "execution_count": 70,
     "metadata": {},
     "output_type": "execute_result"
    }
   ],
   "source": [
    "vaers_df.iloc[3]['HISTORY']"
   ]
  },
  {
   "cell_type": "code",
   "execution_count": 71,
   "metadata": {},
   "outputs": [
    {
     "data": {
      "text/plain": [
       "'got measles from measel shot, mums from mumps shot, headaches and nausea from flu shot'"
      ]
     },
     "execution_count": 71,
     "metadata": {},
     "output_type": "execute_result"
    }
   ],
   "source": [
    "vaers_df.iloc[3]['PRIOR_VAX']"
   ]
  },
  {
   "cell_type": "markdown",
   "metadata": {},
   "source": [
    "Sample 3:"
   ]
  },
  {
   "cell_type": "code",
   "execution_count": 72,
   "metadata": {},
   "outputs": [
    {
     "data": {
      "text/html": [
       "<div>\n",
       "<style scoped>\n",
       "    .dataframe tbody tr th:only-of-type {\n",
       "        vertical-align: middle;\n",
       "    }\n",
       "\n",
       "    .dataframe tbody tr th {\n",
       "        vertical-align: top;\n",
       "    }\n",
       "\n",
       "    .dataframe thead th {\n",
       "        text-align: right;\n",
       "    }\n",
       "</style>\n",
       "<table border=\"1\" class=\"dataframe\">\n",
       "  <thead>\n",
       "    <tr style=\"text-align: right;\">\n",
       "      <th></th>\n",
       "      <th>VAERS_ID</th>\n",
       "      <th>RECVDATE</th>\n",
       "      <th>STATE</th>\n",
       "      <th>AGE_YRS</th>\n",
       "      <th>CAGE_YR</th>\n",
       "      <th>CAGE_MO</th>\n",
       "      <th>SEX</th>\n",
       "      <th>RPT_DATE</th>\n",
       "      <th>SYMPTOM_TEXT</th>\n",
       "      <th>DIED</th>\n",
       "      <th>...</th>\n",
       "      <th>CUR_ILL</th>\n",
       "      <th>HISTORY</th>\n",
       "      <th>PRIOR_VAX</th>\n",
       "      <th>SPLTTYPE</th>\n",
       "      <th>FORM_VERS</th>\n",
       "      <th>TODAYS_DATE</th>\n",
       "      <th>BIRTH_DEFECT</th>\n",
       "      <th>OFC_VISIT</th>\n",
       "      <th>ER_ED_VISIT</th>\n",
       "      <th>ALLERGIES</th>\n",
       "    </tr>\n",
       "  </thead>\n",
       "  <tbody>\n",
       "    <tr>\n",
       "      <td>30</td>\n",
       "      <td>916632</td>\n",
       "      <td>01/01/2021</td>\n",
       "      <td>NaN</td>\n",
       "      <td>0.08</td>\n",
       "      <td>0.0</td>\n",
       "      <td>0.1</td>\n",
       "      <td>M</td>\n",
       "      <td>NaN</td>\n",
       "      <td>Baby had regular 6 week wellness check-up and ...</td>\n",
       "      <td>NaN</td>\n",
       "      <td>...</td>\n",
       "      <td>N/a</td>\n",
       "      <td>NaN</td>\n",
       "      <td>NaN</td>\n",
       "      <td>NaN</td>\n",
       "      <td>2</td>\n",
       "      <td>01/01/2021</td>\n",
       "      <td>NaN</td>\n",
       "      <td>NaN</td>\n",
       "      <td>Y</td>\n",
       "      <td>N/a</td>\n",
       "    </tr>\n",
       "    <tr>\n",
       "      <td>105</td>\n",
       "      <td>916710</td>\n",
       "      <td>01/01/2021</td>\n",
       "      <td>MO</td>\n",
       "      <td>23.00</td>\n",
       "      <td>23.0</td>\n",
       "      <td>NaN</td>\n",
       "      <td>F</td>\n",
       "      <td>NaN</td>\n",
       "      <td>Acute appendicitis, onset morning of 1/1/2021 ...</td>\n",
       "      <td>NaN</td>\n",
       "      <td>...</td>\n",
       "      <td>NaN</td>\n",
       "      <td>Hypothyroidism</td>\n",
       "      <td>NaN</td>\n",
       "      <td>NaN</td>\n",
       "      <td>2</td>\n",
       "      <td>01/01/2021</td>\n",
       "      <td>NaN</td>\n",
       "      <td>NaN</td>\n",
       "      <td>Y</td>\n",
       "      <td>NKDA</td>\n",
       "    </tr>\n",
       "    <tr>\n",
       "      <td>188</td>\n",
       "      <td>916803</td>\n",
       "      <td>01/01/2021</td>\n",
       "      <td>LA</td>\n",
       "      <td>78.00</td>\n",
       "      <td>78.0</td>\n",
       "      <td>NaN</td>\n",
       "      <td>M</td>\n",
       "      <td>NaN</td>\n",
       "      <td>respitory colase</td>\n",
       "      <td>Y</td>\n",
       "      <td>...</td>\n",
       "      <td>none</td>\n",
       "      <td>large T-cell lymphoma, HTN, Gout,  recieving t...</td>\n",
       "      <td>NaN</td>\n",
       "      <td>NaN</td>\n",
       "      <td>2</td>\n",
       "      <td>01/01/2021</td>\n",
       "      <td>NaN</td>\n",
       "      <td>NaN</td>\n",
       "      <td>NaN</td>\n",
       "      <td>N?A</td>\n",
       "    </tr>\n",
       "    <tr>\n",
       "      <td>193</td>\n",
       "      <td>916809</td>\n",
       "      <td>01/01/2021</td>\n",
       "      <td>WA</td>\n",
       "      <td>40.00</td>\n",
       "      <td>40.0</td>\n",
       "      <td>NaN</td>\n",
       "      <td>F</td>\n",
       "      <td>NaN</td>\n",
       "      <td>CAREGIVER RECEIVED FIRST VACCINE DOSE AND SOON...</td>\n",
       "      <td>NaN</td>\n",
       "      <td>...</td>\n",
       "      <td>None</td>\n",
       "      <td>NaN</td>\n",
       "      <td>NaN</td>\n",
       "      <td>NaN</td>\n",
       "      <td>2</td>\n",
       "      <td>01/01/2021</td>\n",
       "      <td>NaN</td>\n",
       "      <td>NaN</td>\n",
       "      <td>Y</td>\n",
       "      <td>None</td>\n",
       "    </tr>\n",
       "    <tr>\n",
       "      <td>218</td>\n",
       "      <td>916836</td>\n",
       "      <td>01/01/2021</td>\n",
       "      <td>MD</td>\n",
       "      <td>55.00</td>\n",
       "      <td>55.0</td>\n",
       "      <td>NaN</td>\n",
       "      <td>M</td>\n",
       "      <td>NaN</td>\n",
       "      <td>Patient is a 55 year old male with no past med...</td>\n",
       "      <td>NaN</td>\n",
       "      <td>...</td>\n",
       "      <td>Pt reported frequent urination for several months</td>\n",
       "      <td>None</td>\n",
       "      <td>NaN</td>\n",
       "      <td>NaN</td>\n",
       "      <td>2</td>\n",
       "      <td>01/01/2021</td>\n",
       "      <td>NaN</td>\n",
       "      <td>NaN</td>\n",
       "      <td>NaN</td>\n",
       "      <td>No known allergies</td>\n",
       "    </tr>\n",
       "  </tbody>\n",
       "</table>\n",
       "<p>5 rows × 35 columns</p>\n",
       "</div>"
      ],
      "text/plain": [
       "     VAERS_ID    RECVDATE STATE  AGE_YRS  CAGE_YR  CAGE_MO SEX RPT_DATE  \\\n",
       "30     916632  01/01/2021   NaN     0.08      0.0      0.1   M      NaN   \n",
       "105    916710  01/01/2021    MO    23.00     23.0      NaN   F      NaN   \n",
       "188    916803  01/01/2021    LA    78.00     78.0      NaN   M      NaN   \n",
       "193    916809  01/01/2021    WA    40.00     40.0      NaN   F      NaN   \n",
       "218    916836  01/01/2021    MD    55.00     55.0      NaN   M      NaN   \n",
       "\n",
       "                                          SYMPTOM_TEXT DIED  ...  \\\n",
       "30   Baby had regular 6 week wellness check-up and ...  NaN  ...   \n",
       "105  Acute appendicitis, onset morning of 1/1/2021 ...  NaN  ...   \n",
       "188                                   respitory colase    Y  ...   \n",
       "193  CAREGIVER RECEIVED FIRST VACCINE DOSE AND SOON...  NaN  ...   \n",
       "218  Patient is a 55 year old male with no past med...  NaN  ...   \n",
       "\n",
       "                                               CUR_ILL  \\\n",
       "30                                                 N/a   \n",
       "105                                                NaN   \n",
       "188                                               none   \n",
       "193                                               None   \n",
       "218  Pt reported frequent urination for several months   \n",
       "\n",
       "                                               HISTORY PRIOR_VAX SPLTTYPE  \\\n",
       "30                                                 NaN       NaN      NaN   \n",
       "105                                     Hypothyroidism       NaN      NaN   \n",
       "188  large T-cell lymphoma, HTN, Gout,  recieving t...       NaN      NaN   \n",
       "193                                                NaN       NaN      NaN   \n",
       "218                                               None       NaN      NaN   \n",
       "\n",
       "     FORM_VERS TODAYS_DATE BIRTH_DEFECT OFC_VISIT ER_ED_VISIT  \\\n",
       "30           2  01/01/2021          NaN       NaN           Y   \n",
       "105          2  01/01/2021          NaN       NaN           Y   \n",
       "188          2  01/01/2021          NaN       NaN         NaN   \n",
       "193          2  01/01/2021          NaN       NaN           Y   \n",
       "218          2  01/01/2021          NaN       NaN         NaN   \n",
       "\n",
       "              ALLERGIES  \n",
       "30                  N/a  \n",
       "105                NKDA  \n",
       "188                 N?A  \n",
       "193                None  \n",
       "218  No known allergies  \n",
       "\n",
       "[5 rows x 35 columns]"
      ]
     },
     "execution_count": 72,
     "metadata": {},
     "output_type": "execute_result"
    }
   ],
   "source": [
    "vaers_df[vaers_df['HOSPITAL'] == 'Y'].head()"
   ]
  },
  {
   "cell_type": "code",
   "execution_count": 73,
   "metadata": {},
   "outputs": [
    {
     "data": {
      "text/plain": [
       "VAERS_ID                                                   916632\n",
       "RECVDATE                                               01/01/2021\n",
       "STATE                                                         NaN\n",
       "AGE_YRS                                                      0.08\n",
       "CAGE_YR                                                         0\n",
       "CAGE_MO                                                       0.1\n",
       "SEX                                                             M\n",
       "RPT_DATE                                                      NaN\n",
       "SYMPTOM_TEXT    Baby had regular 6 week wellness check-up and ...\n",
       "DIED                                                          NaN\n",
       "DATEDIED                                                      NaN\n",
       "L_THREAT                                                        Y\n",
       "ER_VISIT                                                      NaN\n",
       "HOSPITAL                                                        Y\n",
       "HOSPDAYS                                                      NaN\n",
       "X_STAY                                                        NaN\n",
       "DISABLE                                                       NaN\n",
       "RECOVD                                                          Y\n",
       "VAX_DATE                                               07/01/1994\n",
       "ONSET_DATE                                             07/01/1994\n",
       "NUMDAYS                                                         0\n",
       "LAB_DATA        Many test were done at the hospital and doctor...\n",
       "V_ADMINBY                                                     PVT\n",
       "V_FUNDBY                                                      NaN\n",
       "OTHER_MEDS                                                    N/a\n",
       "CUR_ILL                                                       N/a\n",
       "HISTORY                                                       NaN\n",
       "PRIOR_VAX                                                     NaN\n",
       "SPLTTYPE                                                      NaN\n",
       "FORM_VERS                                                       2\n",
       "TODAYS_DATE                                            01/01/2021\n",
       "BIRTH_DEFECT                                                  NaN\n",
       "OFC_VISIT                                                     NaN\n",
       "ER_ED_VISIT                                                     Y\n",
       "ALLERGIES                                                     N/a\n",
       "Name: 30, dtype: object"
      ]
     },
     "execution_count": 73,
     "metadata": {},
     "output_type": "execute_result"
    }
   ],
   "source": [
    "vaers_df.iloc[30]"
   ]
  },
  {
   "cell_type": "code",
   "execution_count": 74,
   "metadata": {
    "scrolled": true
   },
   "outputs": [
    {
     "data": {
      "text/plain": [
       "'Baby had regular 6 week wellness check-up and received all reccomended vaccinations for 6 week old baby.   Straight after vaccination baby went to sleep, he then woke up 1 hour after with a screaming cry as if something was terribly wrong,  he then started vomiting uncontrollably (like a water fountain) and was in and out of consciousness, very lethargic, breathing started to reduce drastically, baby was floppy. Baby was handed to paramedics and rushed to emergency.    After event of vaccine reaction, doctors encouraged to continue with vaccinations,  baby was continuously in and out of hospital, suffered from stomach problems/pain as a todler and would notice todler seeking anything cold, usually resulting to lying down on stomach  on the cold floor because stomach was always burning hot. He would vomit regularly, suffer from regular nose bleeds for no apparent reason, behavioural/anger issues were displayed, headaches, asthma, and dry skin.'"
      ]
     },
     "execution_count": 74,
     "metadata": {},
     "output_type": "execute_result"
    }
   ],
   "source": [
    "vaers_df.iloc[30]['SYMPTOM_TEXT']"
   ]
  },
  {
   "cell_type": "code",
   "execution_count": 75,
   "metadata": {},
   "outputs": [
    {
     "data": {
      "text/plain": [
       "100092"
      ]
     },
     "execution_count": 75,
     "metadata": {},
     "output_type": "execute_result"
    }
   ],
   "source": [
    "vaers_df['HOSPITAL'].isna().sum()"
   ]
  },
  {
   "cell_type": "code",
   "execution_count": 76,
   "metadata": {},
   "outputs": [
    {
     "data": {
      "text/plain": [
       "array([nan, 'Y'], dtype=object)"
      ]
     },
     "execution_count": 76,
     "metadata": {},
     "output_type": "execute_result"
    }
   ],
   "source": [
    "vaers_df['HOSPITAL'].unique()"
   ]
  },
  {
   "cell_type": "code",
   "execution_count": 77,
   "metadata": {},
   "outputs": [
    {
     "data": {
      "text/plain": [
       "108176"
      ]
     },
     "execution_count": 77,
     "metadata": {},
     "output_type": "execute_result"
    }
   ],
   "source": [
    "vaers_df['ER_VISIT'].isna().sum()"
   ]
  },
  {
   "cell_type": "code",
   "execution_count": 78,
   "metadata": {},
   "outputs": [
    {
     "data": {
      "text/plain": [
       "array([nan, 'Y'], dtype=object)"
      ]
     },
     "execution_count": 78,
     "metadata": {},
     "output_type": "execute_result"
    }
   ],
   "source": [
    "vaers_df['ER_VISIT'].unique()"
   ]
  },
  {
   "cell_type": "code",
   "execution_count": 79,
   "metadata": {},
   "outputs": [
    {
     "data": {
      "text/plain": [
       "90360"
      ]
     },
     "execution_count": 79,
     "metadata": {},
     "output_type": "execute_result"
    }
   ],
   "source": [
    "vaers_df['OFC_VISIT'].isna().sum()"
   ]
  },
  {
   "cell_type": "code",
   "execution_count": 80,
   "metadata": {},
   "outputs": [
    {
     "data": {
      "text/plain": [
       "array(['Y', nan], dtype=object)"
      ]
     },
     "execution_count": 80,
     "metadata": {},
     "output_type": "execute_result"
    }
   ],
   "source": [
    "vaers_df['OFC_VISIT'].unique()"
   ]
  },
  {
   "cell_type": "code",
   "execution_count": 81,
   "metadata": {},
   "outputs": [
    {
     "data": {
      "text/plain": [
       "93638"
      ]
     },
     "execution_count": 81,
     "metadata": {},
     "output_type": "execute_result"
    }
   ],
   "source": [
    "vaers_df['ER_ED_VISIT'].isna().sum()"
   ]
  },
  {
   "cell_type": "code",
   "execution_count": 82,
   "metadata": {},
   "outputs": [
    {
     "data": {
      "text/plain": [
       "array([nan, 'Y'], dtype=object)"
      ]
     },
     "execution_count": 82,
     "metadata": {},
     "output_type": "execute_result"
    }
   ],
   "source": [
    "vaers_df['ER_ED_VISIT'].unique()"
   ]
  },
  {
   "cell_type": "code",
   "execution_count": 83,
   "metadata": {},
   "outputs": [
    {
     "data": {
      "text/plain": [
       "Index(['VAERS_ID', 'RECVDATE', 'STATE', 'AGE_YRS', 'CAGE_YR', 'CAGE_MO', 'SEX',\n",
       "       'RPT_DATE', 'SYMPTOM_TEXT', 'DIED', 'DATEDIED', 'L_THREAT', 'ER_VISIT',\n",
       "       'HOSPITAL', 'HOSPDAYS', 'X_STAY', 'DISABLE', 'RECOVD', 'VAX_DATE',\n",
       "       'ONSET_DATE', 'NUMDAYS', 'LAB_DATA', 'V_ADMINBY', 'V_FUNDBY',\n",
       "       'OTHER_MEDS', 'CUR_ILL', 'HISTORY', 'PRIOR_VAX', 'SPLTTYPE',\n",
       "       'FORM_VERS', 'TODAYS_DATE', 'BIRTH_DEFECT', 'OFC_VISIT', 'ER_ED_VISIT',\n",
       "       'ALLERGIES'],\n",
       "      dtype='object')"
      ]
     },
     "execution_count": 83,
     "metadata": {},
     "output_type": "execute_result"
    }
   ],
   "source": [
    "vaers_df.columns"
   ]
  },
  {
   "cell_type": "code",
   "execution_count": 84,
   "metadata": {},
   "outputs": [
    {
     "data": {
      "text/plain": [
       "72458"
      ]
     },
     "execution_count": 84,
     "metadata": {},
     "output_type": "execute_result"
    }
   ],
   "source": [
    "vaers_df[['DIED', 'L_THREAT', 'ER_VISIT', 'HOSPITAL', 'DISABLE', 'BIRTH_DEFECT', 'OFC_VISIT', 'ER_ED_VISIT']].isna().T.all().sum()"
   ]
  },
  {
   "cell_type": "code",
   "execution_count": 85,
   "metadata": {},
   "outputs": [
    {
     "data": {
      "text/plain": [
       "0         33.0\n",
       "1         73.0\n",
       "2         23.0\n",
       "3         58.0\n",
       "4         47.0\n",
       "          ... \n",
       "108186    73.0\n",
       "108187     NaN\n",
       "108188    25.0\n",
       "108189    18.0\n",
       "108190    80.0\n",
       "Name: AGE_YRS, Length: 108191, dtype: float64"
      ]
     },
     "execution_count": 85,
     "metadata": {},
     "output_type": "execute_result"
    }
   ],
   "source": [
    "vaers_df['AGE_YRS']"
   ]
  },
  {
   "cell_type": "code",
   "execution_count": 86,
   "metadata": {},
   "outputs": [
    {
     "data": {
      "text/plain": [
       "array(['None',\n",
       "       'Patient residing at nursing facility. See patients chart.',\n",
       "       'kidney infection', ...,\n",
       "       'Alcohol use (Moderate to light.); Essential hypertension; Food allergy; Nonsmoker',\n",
       "       'Alcohol use (Once a week.); Non-smoker; Seasonal allergy',\n",
       "       'Pollen allergy'], dtype=object)"
      ]
     },
     "execution_count": 86,
     "metadata": {},
     "output_type": "execute_result"
    }
   ],
   "source": [
    "vaers_df['CUR_ILL'].unique()"
   ]
  },
  {
   "cell_type": "markdown",
   "metadata": {},
   "source": [
    "Machine Learning Features and Target\n",
    "\n",
    "Features:\n",
    "\n",
    "- AGE_YRS (float)\n",
    "- SEX ('F', 'M', 'U')\n",
    "- SYMPTOM_TEXT (text)\n",
    "\n",
    "Target:\n",
    "\n",
    "- 0 if any of 'DIED', 'L_THREAT', 'ER_VISIT', 'HOSPITAL', 'DISABLE', 'BIRTH_DEFECT', 'OFC_VISIT', 'ER_ED_VISIT' is Y\n",
    "- 1 otherwise"
   ]
  },
  {
   "cell_type": "markdown",
   "metadata": {},
   "source": [
    "### Let's use only SYMPTOM_TEXT first"
   ]
  },
  {
   "cell_type": "code",
   "execution_count": 87,
   "metadata": {},
   "outputs": [
    {
     "data": {
      "text/html": [
       "<div>\n",
       "<style scoped>\n",
       "    .dataframe tbody tr th:only-of-type {\n",
       "        vertical-align: middle;\n",
       "    }\n",
       "\n",
       "    .dataframe tbody tr th {\n",
       "        vertical-align: top;\n",
       "    }\n",
       "\n",
       "    .dataframe thead th {\n",
       "        text-align: right;\n",
       "    }\n",
       "</style>\n",
       "<table border=\"1\" class=\"dataframe\">\n",
       "  <thead>\n",
       "    <tr style=\"text-align: right;\">\n",
       "      <th></th>\n",
       "      <th>SYMPTOM_TEXT</th>\n",
       "    </tr>\n",
       "  </thead>\n",
       "  <tbody>\n",
       "    <tr>\n",
       "      <td>0</td>\n",
       "      <td>Right side of epiglottis swelled up and hinder...</td>\n",
       "    </tr>\n",
       "    <tr>\n",
       "      <td>1</td>\n",
       "      <td>Approximately 30 min post vaccination administ...</td>\n",
       "    </tr>\n",
       "    <tr>\n",
       "      <td>2</td>\n",
       "      <td>About 15 minutes after receiving the vaccine, ...</td>\n",
       "    </tr>\n",
       "    <tr>\n",
       "      <td>3</td>\n",
       "      <td>extreme fatigue, dizziness,. could not lift my...</td>\n",
       "    </tr>\n",
       "    <tr>\n",
       "      <td>4</td>\n",
       "      <td>Injection site swelling, redness, warm to the ...</td>\n",
       "    </tr>\n",
       "  </tbody>\n",
       "</table>\n",
       "</div>"
      ],
      "text/plain": [
       "                                        SYMPTOM_TEXT\n",
       "0  Right side of epiglottis swelled up and hinder...\n",
       "1  Approximately 30 min post vaccination administ...\n",
       "2  About 15 minutes after receiving the vaccine, ...\n",
       "3  extreme fatigue, dizziness,. could not lift my...\n",
       "4  Injection site swelling, redness, warm to the ..."
      ]
     },
     "metadata": {},
     "output_type": "display_data"
    },
    {
     "data": {
      "text/plain": [
       "0    False\n",
       "1    False\n",
       "2    False\n",
       "3     True\n",
       "4     True\n",
       "dtype: bool"
      ]
     },
     "metadata": {},
     "output_type": "display_data"
    }
   ],
   "source": [
    "X = vaers_df[['SYMPTOM_TEXT']]\n",
    "y = vaers_df[['DIED', 'L_THREAT', 'ER_VISIT', 'HOSPITAL', 'DISABLE', 'BIRTH_DEFECT', 'OFC_VISIT', 'ER_ED_VISIT']].isna().T.all()\n",
    "display(X.head())\n",
    "display(y.head())"
   ]
  },
  {
   "cell_type": "code",
   "execution_count": 90,
   "metadata": {},
   "outputs": [
    {
     "name": "stdout",
     "output_type": "stream",
     "text": [
      "(86552,)\n",
      "(86552,)\n",
      "(21639,)\n",
      "(21639,)\n",
      "['Five hours after the covid vaccine shot,  chills so bad my whole body was shaking, was running a temp , headache, aches all over.. these went away by the next morning but I continued to be very tired.   Day three I was still very tired and developed a cold sore on the left corner of my mouth and sores in my mouth.  Also had a left swollen gland near jaw line.   I just layed low and rested.  by March 23 the cold sore and sores in my mouth went away..'\n",
      " 'Tingling/spasms in arm, feet, neck, face (starting at 3:30 am -- ongoing. Currently 8:13 pm) Sometimes the tingling feels hot but not always.'\n",
      " 'Received the first dose on 12/16/2020, I tested positive for COVID on 12/28/2020.  I received my second dose on 1/7/2020, I was still having COVID symptoms. Symptoms worsened after the second dose. My heart rate has been out of control. I have been on steroids daily, because I was so short of breath.  I have not been at work since being diagnosed with COVID.  I went ahead and got the second dose, because my job told me that I had to get the second dose.  I still have fatigue,  elevated heart rate, blood pressure is till elevated. I have been started on blood pressure medication.  I have also been diagnosed with severe sleep apnea.  I had a sleep study performed. I am on  two new inhalers. One is a steroid inhaler for lungs and one is a rescue inhaler for when I am short of breath. It has not pleasant. Headaches are horrible and daily.  I went to ER, because headache was so severe. No medication I take for headaches work.  I have not been able to work since I was diagnosed with COVID.'\n",
      " ...\n",
      " 'Rash and itching starting 8 days after vaccine was given across chest, upper inner arm, posterior knees/thighs'\n",
      " 'Within 1 hour of receiving the vaccine the patient developed asthma symptoms,dizziness, tingling in mouth and swollen tongue. She presented at a walk-in clinic and received Epi-Pen 0.3mg, Solu-Medrol and Benadryl, while there she received 2 additional doses and was transferred to the nearest ED by ambulance. At the ED  she received a 4th dose of Epi-Pen 0.3mg and albuterol and DuoNeb treatments. She was admitted for observation. She went home and needed to return within 24 hours to the ED because her lips and tongue started to swell and she turned blue. She subsequently needed 3 additional doses of Epi-Pen over the next 24-48 hours. She has been on Benadryl 50mg every 6 hours and Famodine 20mg until present.'\n",
      " \"Moderna COVID?19 Vaccine EUA Got vaccine 4pm.  I ate dinner at 6pm.  At 8pm felt slightly nauseous.  By 9pm it was worse.  By 9 30pm I was nauseous and full blow stomach pain.  My stomach was 'roiling or churning.'   Then between 9 30pm and 2 30am the next day I was nauseous, had stomach pain, I felt hot and cold and my head became more congested and I got a headache.  Note: the head congestion was there prior to getting the vaccine, but it got worse.   I sipped water throughout and it felt like I had to vomit (but I did not vomit).   I took my temperature a few times it ranged from 98 to 98.8.   My normal temperature is 97 to 97.5.   By morning, or about 4am the worse symptoms were gone.  My stomach felt more or less ok and at 7am  I ate a light breakfast without incident.   My temperature seemed to be elevated through the day.  I felt somewhat weak during the day.  Worst effects seem gone by Jan 8 evening.   The only effect left is pain in my left upper arm.  I consider these to be significant and worrying side effects and I may not take the second dose.\"]\n"
     ]
    }
   ],
   "source": [
    "# Train-Test Split\n",
    "\n",
    "X_train, X_test, y_train, y_test = train_test_split(X, y, test_size=0.2, random_state=43)\n",
    "X_train = np.array(X_train).reshape(X_train.shape[0]).astype('str')\n",
    "X_test = np.array(X_test).reshape(X_test.shape[0]).astype('str')\n",
    "\n",
    "print(X_train.shape)\n",
    "print(y_train.shape)\n",
    "print(X_test.shape)\n",
    "print(y_test.shape)\n",
    "print(X_train)"
   ]
  },
  {
   "cell_type": "code",
   "execution_count": 104,
   "metadata": {},
   "outputs": [],
   "source": [
    "# Preprocess Texts\n",
    "\n",
    "vocab_size = 40000\n",
    "embedding_dim = 16\n",
    "max_length = 200\n",
    "trunc_type=\"post\"\n",
    "oov_tok = \"<OOV>\"\n",
    "\n",
    "from tensorflow.keras.preprocessing.text import Tokenizer\n",
    "from tensorflow.keras.preprocessing.sequence import pad_sequences\n",
    "\n",
    "tokenizer = Tokenizer(num_words=vocab_size, oov_token=oov_tok)\n",
    "tokenizer.fit_on_texts(X_train)\n",
    "word_index = tokenizer.word_index\n",
    "sequences = tokenizer.texts_to_sequences(X_train)\n",
    "padded = pad_sequences(sequences, maxlen=max_length, truncating=trunc_type)\n",
    "\n",
    "testing_sequences = tokenizer.texts_to_sequences(X_test)\n",
    "testing_padded = pad_sequences(testing_sequences, maxlen=max_length)"
   ]
  },
  {
   "cell_type": "code",
   "execution_count": 105,
   "metadata": {},
   "outputs": [
    {
     "data": {
      "text/plain": [
       "38973"
      ]
     },
     "execution_count": 105,
     "metadata": {},
     "output_type": "execute_result"
    }
   ],
   "source": [
    "len(word_index)"
   ]
  },
  {
   "cell_type": "code",
   "execution_count": 106,
   "metadata": {},
   "outputs": [
    {
     "name": "stdout",
     "output_type": "stream",
     "text": [
      "Model: \"sequential\"\n",
      "_________________________________________________________________\n",
      "Layer (type)                 Output Shape              Param #   \n",
      "=================================================================\n",
      "embedding (Embedding)        (None, 200, 16)           640000    \n",
      "_________________________________________________________________\n",
      "bidirectional (Bidirectional (None, 64)                12544     \n",
      "_________________________________________________________________\n",
      "dense (Dense)                (None, 6)                 390       \n",
      "_________________________________________________________________\n",
      "dense_1 (Dense)              (None, 1)                 7         \n",
      "=================================================================\n",
      "Total params: 652,941\n",
      "Trainable params: 652,941\n",
      "Non-trainable params: 0\n",
      "_________________________________________________________________\n"
     ]
    }
   ],
   "source": [
    "model = tf.keras.Sequential([\n",
    "    tf.keras.layers.Embedding(vocab_size, embedding_dim, input_length=max_length),\n",
    "    tf.keras.layers.Bidirectional(tf.keras.layers.LSTM(32)),\n",
    "    tf.keras.layers.Dense(6, activation='relu'),\n",
    "    tf.keras.layers.Dense(1, activation='sigmoid')\n",
    "])\n",
    "model.compile(loss='binary_crossentropy',optimizer='adam',metrics=['accuracy'])\n",
    "model.summary()"
   ]
  },
  {
   "cell_type": "code",
   "execution_count": 108,
   "metadata": {},
   "outputs": [
    {
     "name": "stdout",
     "output_type": "stream",
     "text": [
      "Epoch 1/50\n",
      "2705/2705 [==============================] - 327s 118ms/step - loss: 0.4927 - accuracy: 0.7730 - val_loss: 0.4121 - val_accuracy: 0.8233\n",
      "Epoch 2/50\n",
      " 926/2705 [=========>....................] - ETA: 3:22 - loss: 0.3932 - accuracy: 0.8351"
     ]
    },
    {
     "ename": "KeyboardInterrupt",
     "evalue": "",
     "output_type": "error",
     "traceback": [
      "\u001b[1;31m---------------------------------------------------------------------------\u001b[0m",
      "\u001b[1;31mKeyboardInterrupt\u001b[0m                         Traceback (most recent call last)",
      "\u001b[1;32m<ipython-input-108-d0d5646660b0>\u001b[0m in \u001b[0;36m<module>\u001b[1;34m\u001b[0m\n\u001b[0;32m      1\u001b[0m \u001b[0mnum_epochs\u001b[0m \u001b[1;33m=\u001b[0m \u001b[1;36m50\u001b[0m\u001b[1;33m\u001b[0m\u001b[1;33m\u001b[0m\u001b[0m\n\u001b[1;32m----> 2\u001b[1;33m \u001b[0mhistory\u001b[0m \u001b[1;33m=\u001b[0m \u001b[0mmodel\u001b[0m\u001b[1;33m.\u001b[0m\u001b[0mfit\u001b[0m\u001b[1;33m(\u001b[0m\u001b[0mpadded\u001b[0m\u001b[1;33m,\u001b[0m \u001b[0my_train\u001b[0m\u001b[1;33m,\u001b[0m \u001b[0mepochs\u001b[0m\u001b[1;33m=\u001b[0m\u001b[0mnum_epochs\u001b[0m\u001b[1;33m,\u001b[0m \u001b[0mvalidation_data\u001b[0m\u001b[1;33m=\u001b[0m\u001b[1;33m(\u001b[0m\u001b[0mtesting_padded\u001b[0m\u001b[1;33m,\u001b[0m \u001b[0my_test\u001b[0m\u001b[1;33m)\u001b[0m\u001b[1;33m)\u001b[0m\u001b[1;33m\u001b[0m\u001b[1;33m\u001b[0m\u001b[0m\n\u001b[0m",
      "\u001b[1;32m~\\Anaconda3\\lib\\site-packages\\tensorflow\\python\\keras\\engine\\training.py\u001b[0m in \u001b[0;36mfit\u001b[1;34m(self, x, y, batch_size, epochs, verbose, callbacks, validation_split, validation_data, shuffle, class_weight, sample_weight, initial_epoch, steps_per_epoch, validation_steps, validation_batch_size, validation_freq, max_queue_size, workers, use_multiprocessing)\u001b[0m\n\u001b[0;32m   1098\u001b[0m                 _r=1):\n\u001b[0;32m   1099\u001b[0m               \u001b[0mcallbacks\u001b[0m\u001b[1;33m.\u001b[0m\u001b[0mon_train_batch_begin\u001b[0m\u001b[1;33m(\u001b[0m\u001b[0mstep\u001b[0m\u001b[1;33m)\u001b[0m\u001b[1;33m\u001b[0m\u001b[1;33m\u001b[0m\u001b[0m\n\u001b[1;32m-> 1100\u001b[1;33m               \u001b[0mtmp_logs\u001b[0m \u001b[1;33m=\u001b[0m \u001b[0mself\u001b[0m\u001b[1;33m.\u001b[0m\u001b[0mtrain_function\u001b[0m\u001b[1;33m(\u001b[0m\u001b[0miterator\u001b[0m\u001b[1;33m)\u001b[0m\u001b[1;33m\u001b[0m\u001b[1;33m\u001b[0m\u001b[0m\n\u001b[0m\u001b[0;32m   1101\u001b[0m               \u001b[1;32mif\u001b[0m \u001b[0mdata_handler\u001b[0m\u001b[1;33m.\u001b[0m\u001b[0mshould_sync\u001b[0m\u001b[1;33m:\u001b[0m\u001b[1;33m\u001b[0m\u001b[1;33m\u001b[0m\u001b[0m\n\u001b[0;32m   1102\u001b[0m                 \u001b[0mcontext\u001b[0m\u001b[1;33m.\u001b[0m\u001b[0masync_wait\u001b[0m\u001b[1;33m(\u001b[0m\u001b[1;33m)\u001b[0m\u001b[1;33m\u001b[0m\u001b[1;33m\u001b[0m\u001b[0m\n",
      "\u001b[1;32m~\\Anaconda3\\lib\\site-packages\\tensorflow\\python\\eager\\def_function.py\u001b[0m in \u001b[0;36m__call__\u001b[1;34m(self, *args, **kwds)\u001b[0m\n\u001b[0;32m    826\u001b[0m     \u001b[0mtracing_count\u001b[0m \u001b[1;33m=\u001b[0m \u001b[0mself\u001b[0m\u001b[1;33m.\u001b[0m\u001b[0mexperimental_get_tracing_count\u001b[0m\u001b[1;33m(\u001b[0m\u001b[1;33m)\u001b[0m\u001b[1;33m\u001b[0m\u001b[1;33m\u001b[0m\u001b[0m\n\u001b[0;32m    827\u001b[0m     \u001b[1;32mwith\u001b[0m \u001b[0mtrace\u001b[0m\u001b[1;33m.\u001b[0m\u001b[0mTrace\u001b[0m\u001b[1;33m(\u001b[0m\u001b[0mself\u001b[0m\u001b[1;33m.\u001b[0m\u001b[0m_name\u001b[0m\u001b[1;33m)\u001b[0m \u001b[1;32mas\u001b[0m \u001b[0mtm\u001b[0m\u001b[1;33m:\u001b[0m\u001b[1;33m\u001b[0m\u001b[1;33m\u001b[0m\u001b[0m\n\u001b[1;32m--> 828\u001b[1;33m       \u001b[0mresult\u001b[0m \u001b[1;33m=\u001b[0m \u001b[0mself\u001b[0m\u001b[1;33m.\u001b[0m\u001b[0m_call\u001b[0m\u001b[1;33m(\u001b[0m\u001b[1;33m*\u001b[0m\u001b[0margs\u001b[0m\u001b[1;33m,\u001b[0m \u001b[1;33m**\u001b[0m\u001b[0mkwds\u001b[0m\u001b[1;33m)\u001b[0m\u001b[1;33m\u001b[0m\u001b[1;33m\u001b[0m\u001b[0m\n\u001b[0m\u001b[0;32m    829\u001b[0m       \u001b[0mcompiler\u001b[0m \u001b[1;33m=\u001b[0m \u001b[1;34m\"xla\"\u001b[0m \u001b[1;32mif\u001b[0m \u001b[0mself\u001b[0m\u001b[1;33m.\u001b[0m\u001b[0m_experimental_compile\u001b[0m \u001b[1;32melse\u001b[0m \u001b[1;34m\"nonXla\"\u001b[0m\u001b[1;33m\u001b[0m\u001b[1;33m\u001b[0m\u001b[0m\n\u001b[0;32m    830\u001b[0m       \u001b[0mnew_tracing_count\u001b[0m \u001b[1;33m=\u001b[0m \u001b[0mself\u001b[0m\u001b[1;33m.\u001b[0m\u001b[0mexperimental_get_tracing_count\u001b[0m\u001b[1;33m(\u001b[0m\u001b[1;33m)\u001b[0m\u001b[1;33m\u001b[0m\u001b[1;33m\u001b[0m\u001b[0m\n",
      "\u001b[1;32m~\\Anaconda3\\lib\\site-packages\\tensorflow\\python\\eager\\def_function.py\u001b[0m in \u001b[0;36m_call\u001b[1;34m(self, *args, **kwds)\u001b[0m\n\u001b[0;32m    853\u001b[0m       \u001b[1;31m# In this case we have created variables on the first call, so we run the\u001b[0m\u001b[1;33m\u001b[0m\u001b[1;33m\u001b[0m\u001b[1;33m\u001b[0m\u001b[0m\n\u001b[0;32m    854\u001b[0m       \u001b[1;31m# defunned version which is guaranteed to never create variables.\u001b[0m\u001b[1;33m\u001b[0m\u001b[1;33m\u001b[0m\u001b[1;33m\u001b[0m\u001b[0m\n\u001b[1;32m--> 855\u001b[1;33m       \u001b[1;32mreturn\u001b[0m \u001b[0mself\u001b[0m\u001b[1;33m.\u001b[0m\u001b[0m_stateless_fn\u001b[0m\u001b[1;33m(\u001b[0m\u001b[1;33m*\u001b[0m\u001b[0margs\u001b[0m\u001b[1;33m,\u001b[0m \u001b[1;33m**\u001b[0m\u001b[0mkwds\u001b[0m\u001b[1;33m)\u001b[0m  \u001b[1;31m# pylint: disable=not-callable\u001b[0m\u001b[1;33m\u001b[0m\u001b[1;33m\u001b[0m\u001b[0m\n\u001b[0m\u001b[0;32m    856\u001b[0m     \u001b[1;32melif\u001b[0m \u001b[0mself\u001b[0m\u001b[1;33m.\u001b[0m\u001b[0m_stateful_fn\u001b[0m \u001b[1;32mis\u001b[0m \u001b[1;32mnot\u001b[0m \u001b[1;32mNone\u001b[0m\u001b[1;33m:\u001b[0m\u001b[1;33m\u001b[0m\u001b[1;33m\u001b[0m\u001b[0m\n\u001b[0;32m    857\u001b[0m       \u001b[1;31m# Release the lock early so that multiple threads can perform the call\u001b[0m\u001b[1;33m\u001b[0m\u001b[1;33m\u001b[0m\u001b[1;33m\u001b[0m\u001b[0m\n",
      "\u001b[1;32m~\\Anaconda3\\lib\\site-packages\\tensorflow\\python\\eager\\function.py\u001b[0m in \u001b[0;36m__call__\u001b[1;34m(self, *args, **kwargs)\u001b[0m\n\u001b[0;32m   2941\u001b[0m        filtered_flat_args) = self._maybe_define_function(args, kwargs)\n\u001b[0;32m   2942\u001b[0m     return graph_function._call_flat(\n\u001b[1;32m-> 2943\u001b[1;33m         filtered_flat_args, captured_inputs=graph_function.captured_inputs)  # pylint: disable=protected-access\n\u001b[0m\u001b[0;32m   2944\u001b[0m \u001b[1;33m\u001b[0m\u001b[0m\n\u001b[0;32m   2945\u001b[0m   \u001b[1;33m@\u001b[0m\u001b[0mproperty\u001b[0m\u001b[1;33m\u001b[0m\u001b[1;33m\u001b[0m\u001b[0m\n",
      "\u001b[1;32m~\\Anaconda3\\lib\\site-packages\\tensorflow\\python\\eager\\function.py\u001b[0m in \u001b[0;36m_call_flat\u001b[1;34m(self, args, captured_inputs, cancellation_manager)\u001b[0m\n\u001b[0;32m   1917\u001b[0m       \u001b[1;31m# No tape is watching; skip to running the function.\u001b[0m\u001b[1;33m\u001b[0m\u001b[1;33m\u001b[0m\u001b[1;33m\u001b[0m\u001b[0m\n\u001b[0;32m   1918\u001b[0m       return self._build_call_outputs(self._inference_function.call(\n\u001b[1;32m-> 1919\u001b[1;33m           ctx, args, cancellation_manager=cancellation_manager))\n\u001b[0m\u001b[0;32m   1920\u001b[0m     forward_backward = self._select_forward_and_backward_functions(\n\u001b[0;32m   1921\u001b[0m         \u001b[0margs\u001b[0m\u001b[1;33m,\u001b[0m\u001b[1;33m\u001b[0m\u001b[1;33m\u001b[0m\u001b[0m\n",
      "\u001b[1;32m~\\Anaconda3\\lib\\site-packages\\tensorflow\\python\\eager\\function.py\u001b[0m in \u001b[0;36mcall\u001b[1;34m(self, ctx, args, cancellation_manager)\u001b[0m\n\u001b[0;32m    558\u001b[0m               \u001b[0minputs\u001b[0m\u001b[1;33m=\u001b[0m\u001b[0margs\u001b[0m\u001b[1;33m,\u001b[0m\u001b[1;33m\u001b[0m\u001b[1;33m\u001b[0m\u001b[0m\n\u001b[0;32m    559\u001b[0m               \u001b[0mattrs\u001b[0m\u001b[1;33m=\u001b[0m\u001b[0mattrs\u001b[0m\u001b[1;33m,\u001b[0m\u001b[1;33m\u001b[0m\u001b[1;33m\u001b[0m\u001b[0m\n\u001b[1;32m--> 560\u001b[1;33m               ctx=ctx)\n\u001b[0m\u001b[0;32m    561\u001b[0m         \u001b[1;32melse\u001b[0m\u001b[1;33m:\u001b[0m\u001b[1;33m\u001b[0m\u001b[1;33m\u001b[0m\u001b[0m\n\u001b[0;32m    562\u001b[0m           outputs = execute.execute_with_cancellation(\n",
      "\u001b[1;32m~\\Anaconda3\\lib\\site-packages\\tensorflow\\python\\eager\\execute.py\u001b[0m in \u001b[0;36mquick_execute\u001b[1;34m(op_name, num_outputs, inputs, attrs, ctx, name)\u001b[0m\n\u001b[0;32m     58\u001b[0m     \u001b[0mctx\u001b[0m\u001b[1;33m.\u001b[0m\u001b[0mensure_initialized\u001b[0m\u001b[1;33m(\u001b[0m\u001b[1;33m)\u001b[0m\u001b[1;33m\u001b[0m\u001b[1;33m\u001b[0m\u001b[0m\n\u001b[0;32m     59\u001b[0m     tensors = pywrap_tfe.TFE_Py_Execute(ctx._handle, device_name, op_name,\n\u001b[1;32m---> 60\u001b[1;33m                                         inputs, attrs, num_outputs)\n\u001b[0m\u001b[0;32m     61\u001b[0m   \u001b[1;32mexcept\u001b[0m \u001b[0mcore\u001b[0m\u001b[1;33m.\u001b[0m\u001b[0m_NotOkStatusException\u001b[0m \u001b[1;32mas\u001b[0m \u001b[0me\u001b[0m\u001b[1;33m:\u001b[0m\u001b[1;33m\u001b[0m\u001b[1;33m\u001b[0m\u001b[0m\n\u001b[0;32m     62\u001b[0m     \u001b[1;32mif\u001b[0m \u001b[0mname\u001b[0m \u001b[1;32mis\u001b[0m \u001b[1;32mnot\u001b[0m \u001b[1;32mNone\u001b[0m\u001b[1;33m:\u001b[0m\u001b[1;33m\u001b[0m\u001b[1;33m\u001b[0m\u001b[0m\n",
      "\u001b[1;31mKeyboardInterrupt\u001b[0m: "
     ]
    }
   ],
   "source": [
    "num_epochs = 50\n",
    "history = model.fit(padded, y_train, epochs=num_epochs, validation_data=(testing_padded, y_test))"
   ]
  },
  {
   "cell_type": "code",
   "execution_count": 110,
   "metadata": {},
   "outputs": [
    {
     "ename": "NameError",
     "evalue": "name 'history' is not defined",
     "output_type": "error",
     "traceback": [
      "\u001b[1;31m---------------------------------------------------------------------------\u001b[0m",
      "\u001b[1;31mNameError\u001b[0m                                 Traceback (most recent call last)",
      "\u001b[1;32m<ipython-input-110-8a052f1d46ef>\u001b[0m in \u001b[0;36m<module>\u001b[1;34m\u001b[0m\n\u001b[0;32m      7\u001b[0m     \u001b[0mplt\u001b[0m\u001b[1;33m.\u001b[0m\u001b[0mshow\u001b[0m\u001b[1;33m(\u001b[0m\u001b[1;33m)\u001b[0m\u001b[1;33m\u001b[0m\u001b[1;33m\u001b[0m\u001b[0m\n\u001b[0;32m      8\u001b[0m \u001b[1;33m\u001b[0m\u001b[0m\n\u001b[1;32m----> 9\u001b[1;33m \u001b[0mplot_graphs\u001b[0m\u001b[1;33m(\u001b[0m\u001b[0mhistory\u001b[0m\u001b[1;33m,\u001b[0m \u001b[1;34m'accuracy'\u001b[0m\u001b[1;33m)\u001b[0m\u001b[1;33m\u001b[0m\u001b[1;33m\u001b[0m\u001b[0m\n\u001b[0m\u001b[0;32m     10\u001b[0m \u001b[0mplot_graphs\u001b[0m\u001b[1;33m(\u001b[0m\u001b[0mhistory\u001b[0m\u001b[1;33m,\u001b[0m \u001b[1;34m'loss'\u001b[0m\u001b[1;33m)\u001b[0m\u001b[1;33m\u001b[0m\u001b[1;33m\u001b[0m\u001b[0m\n",
      "\u001b[1;31mNameError\u001b[0m: name 'history' is not defined"
     ]
    }
   ],
   "source": [
    "def plot_graphs(history, string):\n",
    "    plt.plot(history.history[string])\n",
    "    plt.plot(history.history['val_'+string])\n",
    "    plt.xlabel(\"Epochs\")\n",
    "    plt.ylabel(string)\n",
    "    plt.legend([string, 'val_'+string])\n",
    "    plt.show()\n",
    "\n",
    "plot_graphs(history, 'accuracy')\n",
    "plot_graphs(history, 'loss')"
   ]
  },
  {
   "cell_type": "markdown",
   "metadata": {},
   "source": [
    "# Covid 19 Symptoms\n",
    "\n",
    "https://www.who.int/emergencies/diseases/novel-coronavirus-2019/question-and-answers-hub/q-a-detail/coronavirus-disease-covid-19"
   ]
  },
  {
   "cell_type": "code",
   "execution_count": 35,
   "metadata": {},
   "outputs": [
    {
     "name": "stdout",
     "output_type": "stream",
     "text": [
      "1.75\n"
     ]
    }
   ],
   "source": [
    "symptoms_list = [\n",
    "    [\"Sesak napas\", \"Kehilangan selera makan\", \"Kebingungan\", \"Nyeri atau tekanan yang terus-menerus di dada\", \"Temperatur tinggi (di atas 38 ° C)\"], # serious symptoms\n",
    "    [\"Demam\", \"Batuk kering\", \"Kelelahan\"], # common_symptoms\n",
    "    [\"Kehilangan rasa atau bau\", \"Hidung tersumbat\", \"Konjungtivitis (juga dikenal sebagai mata merah)\", \"Sakit tenggorokan\", \"Sakit kepala\", \"Nyeri otot atau sendi\", \"Berbagai jenis ruam kulit\", \"Mual atau muntah\", \"Diare\", \"Menggigil atau pusing\"],  # less common symptoms\n",
    "    [\"Iritabilitas\", \"Kebingungan\", \"Kesadaran berkurang (terkadang dikaitkan dengan kejang)\", \"Kecemasan\", \"Depresi\", \"Gangguan tidur\", \"Stroke\", \"Radang otak\", \"Delirium\", \"Kerusakan saraf\"] # lesser common symptoms\n",
    "]\n",
    "symptoms_list = [[x.lower() for x in symptoms] for symptoms in symptoms_list]\n",
    "symptoms_coeff = [1.0, 0.75, 0.5, 0.25]\n",
    "\n",
    "def analyze_symptoms_probability(user_symptoms):\n",
    "    total = 0.0\n",
    "    for symptom in user_symptoms:\n",
    "        for i in range(len(symptoms_list)):\n",
    "            if symptom.lower() in symptoms_list[i]:\n",
    "                total += symptoms_coeff[i]\n",
    "                break\n",
    "    return total\n",
    "\n",
    "print(analyze_symptoms_probability([\"demam\", \"sesak napas\"]))\n",
    "# should be 1.75"
   ]
  },
  {
   "cell_type": "code",
   "execution_count": null,
   "metadata": {},
   "outputs": [],
   "source": []
  },
  {
   "cell_type": "code",
   "execution_count": null,
   "metadata": {},
   "outputs": [],
   "source": []
  },
  {
   "cell_type": "code",
   "execution_count": null,
   "metadata": {},
   "outputs": [],
   "source": []
  },
  {
   "cell_type": "code",
   "execution_count": null,
   "metadata": {},
   "outputs": [],
   "source": []
  },
  {
   "cell_type": "code",
   "execution_count": null,
   "metadata": {},
   "outputs": [],
   "source": []
  },
  {
   "cell_type": "code",
   "execution_count": null,
   "metadata": {},
   "outputs": [],
   "source": []
  }
 ],
 "metadata": {
  "kernelspec": {
   "display_name": "Python 3",
   "language": "python",
   "name": "python3"
  },
  "language_info": {
   "codemirror_mode": {
    "name": "ipython",
    "version": 3
   },
   "file_extension": ".py",
   "mimetype": "text/x-python",
   "name": "python",
   "nbconvert_exporter": "python",
   "pygments_lexer": "ipython3",
   "version": "3.7.4"
  }
 },
 "nbformat": 4,
 "nbformat_minor": 2
}
