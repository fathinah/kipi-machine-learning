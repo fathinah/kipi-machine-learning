{
  "nbformat": 4,
  "nbformat_minor": 0,
  "metadata": {
    "colab": {
      "name": "Fathinah_Experiment 2.ipynb",
      "provenance": [],
      "collapsed_sections": []
    },
    "kernelspec": {
      "name": "python3",
      "display_name": "Python 3"
    },
    "language_info": {
      "name": "python"
    },
    "accelerator": "GPU"
  },
  "cells": [
    {
      "cell_type": "code",
      "metadata": {
        "id": "bHzZo5YG-Swp"
      },
      "source": [
        "import os\n",
        "import numpy as np\n",
        "import matplotlib.pyplot as plt\n",
        "import pandas as pd\n",
        "import math\n",
        "\n",
        "import keras\n",
        "from keras.models import Sequential\n",
        "from keras.layers import *\n",
        "from keras_preprocessing.image import ImageDataGenerator\n",
        "\n",
        "import zipfile \n",
        "\n",
        "import cv2\n",
        "import seaborn as sns\n",
        "%matplotlib inline\n",
        "\n",
        "from sklearn.metrics import confusion_matrix, classification_report\n",
        "from sklearn.model_selection import train_test_split\n",
        "from mlxtend.plotting import plot_confusion_matrix\n",
        "\n",
        "from keras import models\n",
        "from keras.layers import Dense, Dropout, Flatten, Conv2D, MaxPool2D\n",
        "from keras.optimizers import RMSprop,Adam\n",
        "from tensorflow.keras.utils import to_categorical\n",
        "import tensorflow as tf\n",
        "from tensorflow.keras.models import Model"
      ],
      "execution_count": 72,
      "outputs": []
    },
    {
      "cell_type": "code",
      "metadata": {
        "id": "ybFMixsjhy4i",
        "colab": {
          "base_uri": "https://localhost:8080/"
        },
        "outputId": "93fc01d1-5e86-4966-f408-0de37effe212"
      },
      "source": [
        "from google.colab import drive\n",
        "drive.mount('/content/drive')"
      ],
      "execution_count": 73,
      "outputs": [
        {
          "output_type": "stream",
          "text": [
            "Drive already mounted at /content/drive; to attempt to forcibly remount, call drive.mount(\"/content/drive\", force_remount=True).\n"
          ],
          "name": "stdout"
        }
      ]
    },
    {
      "cell_type": "code",
      "metadata": {
        "id": "6lAtVLAUljMy",
        "colab": {
          "base_uri": "https://localhost:8080/"
        },
        "outputId": "028ea9a8-a9a3-4f19-9ae3-fb254c74e82f"
      },
      "source": [
        "%cd 'drive/MyDrive/Bangkit Capstone Project Team/Notebooks/face_data'"
      ],
      "execution_count": 74,
      "outputs": [
        {
          "output_type": "stream",
          "text": [
            "[Errno 2] No such file or directory: 'drive/MyDrive/Bangkit Capstone Project Team/Notebooks/face_data'\n",
            "/content/drive/.shortcut-targets-by-id/1ZonyDXIOaWSJ6augTpgjNkWXh8rvEYl-/Bangkit Capstone Project Team/Notebooks/face_data\n"
          ],
          "name": "stdout"
        }
      ]
    },
    {
      "cell_type": "code",
      "metadata": {
        "id": "yDgRpqj--TNj"
      },
      "source": [
        "import numpy as np\n",
        "import pandas as pd\n",
        "import os\n",
        "import tensorflow as tf\n",
        "from keras.preprocessing.image import ImageDataGenerator, load_img\n",
        "from keras.layers import Conv2D, Dense, BatchNormalization, Activation, Dropout, MaxPooling2D, Flatten\n",
        "from keras.optimizers import Adam, RMSprop, SGD\n",
        "from keras import regularizers\n",
        "from keras.callbacks import ModelCheckpoint, CSVLogger, TensorBoard, EarlyStopping, ReduceLROnPlateau\n",
        "import datetime\n",
        "import matplotlib.pyplot as plt"
      ],
      "execution_count": 79,
      "outputs": []
    },
    {
      "cell_type": "code",
      "metadata": {
        "id": "bthkRfX_Jzws"
      },
      "source": [
        "train_dir = 'train/'\n",
        "test_dir = 'test/'\n",
        "\n",
        "row, col = 48, 48\n",
        "classes = 7"
      ],
      "execution_count": 80,
      "outputs": []
    },
    {
      "cell_type": "code",
      "metadata": {
        "id": "thG2xpCXmZLv",
        "colab": {
          "base_uri": "https://localhost:8080/"
        },
        "outputId": "345eecee-a14e-4c05-9d04-d30ea04094c5"
      },
      "source": [
        "train_datagen = ImageDataGenerator(rescale=1./255,\n",
        "                                   zoom_range=0.3,\n",
        "                                   horizontal_flip=True)\n",
        "\n",
        "training_set = train_datagen.flow_from_directory(train_dir,\n",
        "                                                batch_size=64,\n",
        "                                                target_size=(48,48),\n",
        "                                                shuffle=True,\n",
        "                                                class_mode='categorical')\n",
        "\n",
        "test_datagen = ImageDataGenerator(rescale=1./255)\n",
        "test_set = test_datagen.flow_from_directory(test_dir,\n",
        "                                                batch_size=64,\n",
        "                                                target_size=(48,48),\n",
        "                                                shuffle=True,\n",
        "                                                class_mode='categorical')"
      ],
      "execution_count": 81,
      "outputs": [
        {
          "output_type": "stream",
          "text": [
            "Found 28709 images belonging to 7 classes.\n",
            "Found 7178 images belonging to 7 classes.\n"
          ],
          "name": "stdout"
        }
      ]
    },
    {
      "cell_type": "code",
      "metadata": {
        "colab": {
          "base_uri": "https://localhost:8080/"
        },
        "id": "vbtjI244E9Ub",
        "outputId": "10d80b4c-4355-4df2-95a6-bb1d0bf1c6e1"
      },
      "source": [
        "emotions"
      ],
      "execution_count": 94,
      "outputs": [
        {
          "output_type": "execute_result",
          "data": {
            "text/plain": [
              "{'angry': 0,\n",
              " 'disgust': 1,\n",
              " 'fear': 2,\n",
              " 'happy': 3,\n",
              " 'neutral': 4,\n",
              " 'sad': 5,\n",
              " 'surprise': 6}"
            ]
          },
          "metadata": {
            "tags": []
          },
          "execution_count": 94
        }
      ]
    },
    {
      "cell_type": "code",
      "metadata": {
        "id": "lW3nMIlAmZCD"
      },
      "source": [
        "emotions = training_set.class_indices"
      ],
      "execution_count": 82,
      "outputs": []
    },
    {
      "cell_type": "code",
      "metadata": {
        "id": "PJ2v00elwqkc"
      },
      "source": [
        "model = tf.keras.models.Sequential()   \n",
        "\n",
        "model.add(Conv2D(32, kernel_size=(3, 3), padding='same', activation='relu', input_shape =(48,48,3)))\n",
        "model.add(Conv2D(64, kernel_size=(3, 3), activation='relu', padding='same'))\n",
        "model.add(BatchNormalization())\n",
        "model.add(MaxPooling2D(2, 2))\n",
        "model.add(Dropout(0.25))\n",
        "\n",
        "model.add(Conv2D(128, kernel_size=(3, 3), activation='relu', padding='same', kernel_regularizer=regularizers.l2(0.01)))\n",
        "model.add(Conv2D(256, kernel_size=(3, 3), activation='relu', kernel_regularizer=regularizers.l2(0.01)))\n",
        "model.add(BatchNormalization())\n",
        "model.add(MaxPooling2D(pool_size=(2, 2)))\n",
        "model.add(Dropout(0.25))\n",
        "\n",
        "model.add(Flatten())\n",
        "model.add(Dense(1024, activation='relu'))\n",
        "model.add(Dropout(0.5))\n",
        "\n",
        "model.add(Dense(7, activation='softmax'))\n",
        "\n",
        "#Compliling the model\n",
        "model.compile(optimizer=Adam(learning_rate=0.001), \n",
        "              loss='categorical_crossentropy', \n",
        "              metrics=['accuracy'])"
      ],
      "execution_count": 83,
      "outputs": []
    },
    {
      "cell_type": "code",
      "metadata": {
        "colab": {
          "base_uri": "https://localhost:8080/"
        },
        "id": "XUhPF5Fqnbzs",
        "outputId": "7367978b-b4e9-4afb-f212-e34f84b04539"
      },
      "source": [
        "hist = model.fit(x=training_set,\n",
        "                 validation_data=test_set,\n",
        "                 epochs=40,\n",
        "                 steps_per_epoch=300)"
      ],
      "execution_count": 105,
      "outputs": [
        {
          "output_type": "stream",
          "text": [
            "Epoch 1/40\n",
            "300/300 [==============================] - 44s 146ms/step - loss: 1.7760 - accuracy: 0.2751 - val_loss: 2.5689 - val_accuracy: 0.2216\n",
            "Epoch 2/40\n",
            "300/300 [==============================] - 43s 144ms/step - loss: 1.7354 - accuracy: 0.2925 - val_loss: 1.7170 - val_accuracy: 0.3236\n",
            "Epoch 3/40\n",
            "300/300 [==============================] - 42s 141ms/step - loss: 1.7078 - accuracy: 0.3145 - val_loss: 1.7442 - val_accuracy: 0.2868\n",
            "Epoch 4/40\n",
            "300/300 [==============================] - 43s 145ms/step - loss: 1.6614 - accuracy: 0.3327 - val_loss: 1.6227 - val_accuracy: 0.3837\n",
            "Epoch 5/40\n",
            "300/300 [==============================] - 42s 141ms/step - loss: 1.6309 - accuracy: 0.3513 - val_loss: 1.5991 - val_accuracy: 0.3409\n",
            "Epoch 6/40\n",
            "300/300 [==============================] - 42s 140ms/step - loss: 1.5980 - accuracy: 0.3688 - val_loss: 1.5769 - val_accuracy: 0.4051\n",
            "Epoch 7/40\n",
            "300/300 [==============================] - 43s 142ms/step - loss: 1.5717 - accuracy: 0.3831 - val_loss: 1.5810 - val_accuracy: 0.3477\n",
            "Epoch 8/40\n",
            "300/300 [==============================] - 42s 139ms/step - loss: 1.5533 - accuracy: 0.3871 - val_loss: 1.5292 - val_accuracy: 0.3877\n",
            "Epoch 9/40\n",
            "300/300 [==============================] - 43s 142ms/step - loss: 1.5327 - accuracy: 0.4016 - val_loss: 1.4286 - val_accuracy: 0.4677\n",
            "Epoch 10/40\n",
            "300/300 [==============================] - 42s 140ms/step - loss: 1.5095 - accuracy: 0.4119 - val_loss: 1.3553 - val_accuracy: 0.4731\n",
            "Epoch 11/40\n",
            "300/300 [==============================] - 42s 141ms/step - loss: 1.4933 - accuracy: 0.4236 - val_loss: 1.3546 - val_accuracy: 0.4847\n",
            "Epoch 12/40\n",
            "300/300 [==============================] - 42s 141ms/step - loss: 1.4736 - accuracy: 0.4283 - val_loss: 1.3881 - val_accuracy: 0.4636\n",
            "Epoch 13/40\n",
            "300/300 [==============================] - 42s 140ms/step - loss: 1.4699 - accuracy: 0.4273 - val_loss: 1.3073 - val_accuracy: 0.4957\n",
            "Epoch 14/40\n",
            "300/300 [==============================] - 42s 141ms/step - loss: 1.4395 - accuracy: 0.4431 - val_loss: 1.3194 - val_accuracy: 0.4971\n",
            "Epoch 15/40\n",
            "300/300 [==============================] - 42s 139ms/step - loss: 1.4419 - accuracy: 0.4415 - val_loss: 1.3450 - val_accuracy: 0.4948\n",
            "Epoch 16/40\n",
            "300/300 [==============================] - 42s 141ms/step - loss: 1.4348 - accuracy: 0.4427 - val_loss: 1.3004 - val_accuracy: 0.5004\n",
            "Epoch 17/40\n",
            "300/300 [==============================] - 43s 144ms/step - loss: 1.4132 - accuracy: 0.4570 - val_loss: 1.2885 - val_accuracy: 0.5127\n",
            "Epoch 18/40\n",
            "300/300 [==============================] - 43s 142ms/step - loss: 1.4012 - accuracy: 0.4668 - val_loss: 1.4210 - val_accuracy: 0.4767\n",
            "Epoch 19/40\n",
            "300/300 [==============================] - 43s 143ms/step - loss: 1.3901 - accuracy: 0.4648 - val_loss: 1.2566 - val_accuracy: 0.5164\n",
            "Epoch 20/40\n",
            "300/300 [==============================] - 43s 145ms/step - loss: 1.3767 - accuracy: 0.4711 - val_loss: 1.2587 - val_accuracy: 0.5146\n",
            "Epoch 21/40\n",
            "300/300 [==============================] - 43s 142ms/step - loss: 1.3656 - accuracy: 0.4749 - val_loss: 1.2396 - val_accuracy: 0.5300\n",
            "Epoch 22/40\n",
            "300/300 [==============================] - 44s 145ms/step - loss: 1.3669 - accuracy: 0.4783 - val_loss: 1.2413 - val_accuracy: 0.5199\n",
            "Epoch 23/40\n",
            "300/300 [==============================] - 47s 156ms/step - loss: 1.3611 - accuracy: 0.4743 - val_loss: 1.2365 - val_accuracy: 0.5304\n",
            "Epoch 24/40\n",
            "300/300 [==============================] - 43s 142ms/step - loss: 1.3458 - accuracy: 0.4833 - val_loss: 1.3546 - val_accuracy: 0.4812\n",
            "Epoch 25/40\n",
            "300/300 [==============================] - 42s 139ms/step - loss: 1.3562 - accuracy: 0.4806 - val_loss: 1.2888 - val_accuracy: 0.5141\n",
            "Epoch 26/40\n",
            "300/300 [==============================] - 43s 142ms/step - loss: 1.3386 - accuracy: 0.4910 - val_loss: 1.2037 - val_accuracy: 0.5407\n",
            "Epoch 27/40\n",
            "300/300 [==============================] - 42s 138ms/step - loss: 1.3229 - accuracy: 0.4978 - val_loss: 1.2243 - val_accuracy: 0.5422\n",
            "Epoch 28/40\n",
            "300/300 [==============================] - 42s 140ms/step - loss: 1.3155 - accuracy: 0.5031 - val_loss: 1.2295 - val_accuracy: 0.5320\n",
            "Epoch 29/40\n",
            "300/300 [==============================] - 42s 139ms/step - loss: 1.3148 - accuracy: 0.5027 - val_loss: 1.2148 - val_accuracy: 0.5404\n",
            "Epoch 30/40\n",
            "300/300 [==============================] - 43s 143ms/step - loss: 1.3048 - accuracy: 0.5057 - val_loss: 1.2034 - val_accuracy: 0.5373\n",
            "Epoch 31/40\n",
            "300/300 [==============================] - 42s 141ms/step - loss: 1.3031 - accuracy: 0.5068 - val_loss: 1.1873 - val_accuracy: 0.5467\n",
            "Epoch 32/40\n",
            "300/300 [==============================] - 42s 141ms/step - loss: 1.2883 - accuracy: 0.5109 - val_loss: 1.1622 - val_accuracy: 0.5556\n",
            "Epoch 33/40\n",
            "300/300 [==============================] - 42s 138ms/step - loss: 1.2963 - accuracy: 0.5076 - val_loss: 1.2012 - val_accuracy: 0.5385\n",
            "Epoch 34/40\n",
            "300/300 [==============================] - 42s 141ms/step - loss: 1.2798 - accuracy: 0.5120 - val_loss: 1.1920 - val_accuracy: 0.5492\n",
            "Epoch 35/40\n",
            "300/300 [==============================] - 43s 143ms/step - loss: 1.2639 - accuracy: 0.5209 - val_loss: 1.1761 - val_accuracy: 0.5488\n",
            "Epoch 36/40\n",
            "300/300 [==============================] - 43s 143ms/step - loss: 1.2620 - accuracy: 0.5246 - val_loss: 1.1872 - val_accuracy: 0.5479\n",
            "Epoch 37/40\n",
            "300/300 [==============================] - 42s 139ms/step - loss: 1.2591 - accuracy: 0.5259 - val_loss: 1.1884 - val_accuracy: 0.5659\n",
            "Epoch 38/40\n",
            "300/300 [==============================] - 42s 140ms/step - loss: 1.2582 - accuracy: 0.5232 - val_loss: 1.1535 - val_accuracy: 0.5688\n",
            "Epoch 39/40\n",
            "300/300 [==============================] - 43s 143ms/step - loss: 1.2525 - accuracy: 0.5268 - val_loss: 1.2217 - val_accuracy: 0.5394\n",
            "Epoch 40/40\n",
            "300/300 [==============================] - 42s 140ms/step - loss: 1.2473 - accuracy: 0.5301 - val_loss: 1.4197 - val_accuracy: 0.5464\n"
          ],
          "name": "stdout"
        }
      ]
    },
    {
      "cell_type": "code",
      "metadata": {
        "colab": {
          "base_uri": "https://localhost:8080/"
        },
        "id": "J9aYkMjVOM7a",
        "outputId": "b2069e29-7282-4948-dab5-7c9cb5bf7ce6"
      },
      "source": [
        "model.evaluate(training_set)"
      ],
      "execution_count": 108,
      "outputs": [
        {
          "output_type": "stream",
          "text": [
            "449/449 [==============================] - 47s 105ms/step - loss: 1.1960 - accuracy: 0.5688\n"
          ],
          "name": "stdout"
        },
        {
          "output_type": "execute_result",
          "data": {
            "text/plain": [
              "[1.196007251739502, 0.5688111782073975]"
            ]
          },
          "metadata": {
            "tags": []
          },
          "execution_count": 108
        }
      ]
    },
    {
      "cell_type": "code",
      "metadata": {
        "colab": {
          "base_uri": "https://localhost:8080/"
        },
        "id": "O-4fRyhmF0Np",
        "outputId": "045066b4-421f-4380-d04e-8660858ce176"
      },
      "source": [
        "model.evaluate(test_set)"
      ],
      "execution_count": 107,
      "outputs": [
        {
          "output_type": "stream",
          "text": [
            "113/113 [==============================] - 8s 66ms/step - loss: 1.4197 - accuracy: 0.5464\n"
          ],
          "name": "stdout"
        },
        {
          "output_type": "execute_result",
          "data": {
            "text/plain": [
              "[1.4197286367416382, 0.5463917255401611]"
            ]
          },
          "metadata": {
            "tags": []
          },
          "execution_count": 107
        }
      ]
    },
    {
      "cell_type": "code",
      "metadata": {
        "colab": {
          "base_uri": "https://localhost:8080/"
        },
        "id": "hzkeo8XBB-ud",
        "outputId": "23fa9341-48f5-4b97-efde-0feb3a68dd05"
      },
      "source": [
        "model.save('face_model')"
      ],
      "execution_count": 109,
      "outputs": [
        {
          "output_type": "stream",
          "text": [
            "WARNING:absl:Found untraced functions such as conv2d_16_layer_call_fn, conv2d_16_layer_call_and_return_conditional_losses, conv2d_17_layer_call_fn, conv2d_17_layer_call_and_return_conditional_losses, dropout_12_layer_call_fn while saving (showing 5 of 50). These functions will not be directly callable after loading.\n"
          ],
          "name": "stderr"
        },
        {
          "output_type": "stream",
          "text": [
            "INFO:tensorflow:Assets written to: face_model/assets\n"
          ],
          "name": "stdout"
        },
        {
          "output_type": "stream",
          "text": [
            "INFO:tensorflow:Assets written to: face_model/assets\n"
          ],
          "name": "stderr"
        }
      ]
    },
    {
      "cell_type": "code",
      "metadata": {
        "id": "iDk9brxIINZ0"
      },
      "source": [
        "converter = tf.lite.TFLiteConverter.from_saved_model('face_model')\n",
        "converter.optimizations = [tf.lite.Optimize.OPTIMIZE_FOR_SIZE]\n",
        "tflite_model = converter.convert()"
      ],
      "execution_count": 111,
      "outputs": []
    },
    {
      "cell_type": "code",
      "metadata": {
        "id": "iCpxX-cFIjYB"
      },
      "source": [
        "tflite_model_file = 'face_model.tflite'\n",
        "\n",
        "with open(tflite_model_file, \"wb\") as f:\n",
        "    f.write(tflite_model)"
      ],
      "execution_count": 112,
      "outputs": []
    },
    {
      "cell_type": "code",
      "metadata": {
        "id": "HKar058MIodM"
      },
      "source": [
        "# Load TFLite model and allocate tensors.\n",
        "with open(tflite_model_file, 'rb') as fid:\n",
        "    tflite_model = fid.read()\n",
        "    \n",
        "interpreter = tf.lite.Interpreter(model_content=tflite_model)\n",
        "interpreter.allocate_tensors()\n",
        "\n",
        "input_index = interpreter.get_input_details()[0][\"index\"]\n",
        "output_index = interpreter.get_output_details()[0][\"index\"]"
      ],
      "execution_count": 113,
      "outputs": []
    },
    {
      "cell_type": "code",
      "metadata": {
        "colab": {
          "resources": {
            "http://localhost:8080/nbextensions/google.colab/files.js": {
              "data": "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",
              "ok": true,
              "headers": [
                [
                  "content-type",
                  "application/javascript"
                ]
              ],
              "status": 200,
              "status_text": ""
            }
          },
          "base_uri": "https://localhost:8080/",
          "height": 73
        },
        "id": "zT1MOXHjngre",
        "outputId": "79b136c8-2c5e-4665-b1df-89eeed14c5ae"
      },
      "source": [
        "from google.colab import files\n",
        "from keras.preprocessing import image\n",
        "\n",
        "uploaded = files.upload().keys()\n",
        "for path in uploaded:\n",
        "  img_3 = image.load_img(path, target_size=(48,48))\n",
        "  x = image.img_to_array(img_3)\n",
        "  x = np.expand_dims(x, axis=0)\n",
        "  imagess = np.vstack([x])\n",
        "  # classes = loaded.predict(imagess)\n",
        "  # print(classes)\n",
        "  # print(emotions[classes.argmax()])"
      ],
      "execution_count": 170,
      "outputs": [
        {
          "output_type": "display_data",
          "data": {
            "text/html": [
              "\n",
              "     <input type=\"file\" id=\"files-7a802c19-49a3-46be-ae6e-8942e2b84b28\" name=\"files[]\" multiple disabled\n",
              "        style=\"border:none\" />\n",
              "     <output id=\"result-7a802c19-49a3-46be-ae6e-8942e2b84b28\">\n",
              "      Upload widget is only available when the cell has been executed in the\n",
              "      current browser session. Please rerun this cell to enable.\n",
              "      </output>\n",
              "      <script src=\"/nbextensions/google.colab/files.js\"></script> "
            ],
            "text/plain": [
              "<IPython.core.display.HTML object>"
            ]
          },
          "metadata": {
            "tags": []
          }
        },
        {
          "output_type": "stream",
          "text": [
            "Saving images (1).jpg to images (1) (2).jpg\n"
          ],
          "name": "stdout"
        }
      ]
    },
    {
      "cell_type": "code",
      "metadata": {
        "id": "JT8nK8M_OjlV"
      },
      "source": [
        "ii = tf.convert_to_tensor(imagess, dtype=tf.float32)"
      ],
      "execution_count": 171,
      "outputs": []
    },
    {
      "cell_type": "code",
      "metadata": {
        "colab": {
          "base_uri": "https://localhost:8080/"
        },
        "id": "2C44_Y4IoIEi",
        "outputId": "c424a82d-9d56-4e18-c8df-a6004527ff7c"
      },
      "source": [
        "ii.shape"
      ],
      "execution_count": 172,
      "outputs": [
        {
          "output_type": "execute_result",
          "data": {
            "text/plain": [
              "TensorShape([1, 48, 48, 3])"
            ]
          },
          "metadata": {
            "tags": []
          },
          "execution_count": 172
        }
      ]
    },
    {
      "cell_type": "code",
      "metadata": {
        "id": "1CLm3gY_oDa_"
      },
      "source": [
        "# Gather results for the randomly sampled test images\n",
        "predictions = []\n",
        "\n",
        "test_lbls, test_imgs = [], []\n",
        "interpreter.set_tensor(input_index, ii)\n",
        "interpreter.invoke()\n",
        "predictions.append(interpreter.get_tensor(output_index))\n",
        "  \n",
        "  # test_lbls.append(test_labels[i])\n",
        "  # test_imgs.append(img)"
      ],
      "execution_count": 173,
      "outputs": []
    },
    {
      "cell_type": "code",
      "metadata": {
        "colab": {
          "base_uri": "https://localhost:8080/"
        },
        "id": "kNkt5IHwoynK",
        "outputId": "e9d2c6e4-c4b8-4ea9-9d51-57d06bb9c440"
      },
      "source": [
        "predictions"
      ],
      "execution_count": 174,
      "outputs": [
        {
          "output_type": "execute_result",
          "data": {
            "text/plain": [
              "[array([[0., 0., 0., 1., 0., 0., 0.]], dtype=float32)]"
            ]
          },
          "metadata": {
            "tags": []
          },
          "execution_count": 174
        }
      ]
    }
  ]
}