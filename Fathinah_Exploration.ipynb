{
  "nbformat": 4,
  "nbformat_minor": 0,
  "metadata": {
    "colab": {
      "name": "Fathinah Exploration.ipynb",
      "provenance": [],
      "collapsed_sections": [
        "CceJil1MGFkj"
      ],
      "toc_visible": true,
      "authorship_tag": "ABX9TyMi3vYD2t7yHzxxX00no3KE",
      "include_colab_link": true
    },
    "kernelspec": {
      "display_name": "Python 3",
      "name": "python3"
    },
    "language_info": {
      "name": "python"
    }
  },
  "cells": [
    {
      "cell_type": "markdown",
      "metadata": {
        "id": "view-in-github",
        "colab_type": "text"
      },
      "source": [
        "<a href=\"https://colab.research.google.com/github/fathinah/kipi-machine-learning/blob/main/Fathinah_Exploration.ipynb\" target=\"_parent\"><img src=\"https://colab.research.google.com/assets/colab-badge.svg\" alt=\"Open In Colab\"/></a>"
      ]
    },
    {
      "cell_type": "code",
      "metadata": {
        "colab": {
          "base_uri": "https://localhost:8080/"
        },
        "id": "iW7XPR7M29g5",
        "outputId": "0d3ef40d-dbdd-471a-9078-263dbded9907"
      },
      "source": [
        "from google.colab import drive\n",
        "drive.mount('/content/drive')"
      ],
      "execution_count": null,
      "outputs": [
        {
          "output_type": "stream",
          "text": [
            "Mounted at /content/drive\n"
          ],
          "name": "stdout"
        }
      ]
    },
    {
      "cell_type": "code",
      "metadata": {
        "id": "24h9Ncju9_H5"
      },
      "source": [
        "import pandas as pd\n",
        "import numpy as np\n",
        "import matplotlib.pyplot as plt"
      ],
      "execution_count": null,
      "outputs": []
    },
    {
      "cell_type": "code",
      "metadata": {
        "colab": {
          "base_uri": "https://localhost:8080/"
        },
        "id": "k7axBVrs9cKK",
        "outputId": "7d2cd920-0a3a-49cd-d528-91d92a3cdfc1"
      },
      "source": [
        "vaers_df = pd.read_csv(filepath_or_buffer='/content/drive/MyDrive/Bangkit Capstone Project Team/Notebooks/2021VAERSData/2021VAERSDATA.csv', sep=',', encoding = \"ISO-8859-1\", dtype={\n",
        "    'RPT_DATE': str,\n",
        "    'ER_VISIT': str,\n",
        "    'V_FUNDBY': str,\n",
        "    'SYMPTOM_TEXT': str\n",
        "})\n",
        "vaers_df.columns"
      ],
      "execution_count": null,
      "outputs": [
        {
          "output_type": "execute_result",
          "data": {
            "text/plain": [
              "Index(['VAERS_ID', 'RECVDATE', 'STATE', 'AGE_YRS', 'CAGE_YR', 'CAGE_MO', 'SEX',\n",
              "       'RPT_DATE', 'SYMPTOM_TEXT', 'DIED', 'DATEDIED', 'L_THREAT', 'ER_VISIT',\n",
              "       'HOSPITAL', 'HOSPDAYS', 'X_STAY', 'DISABLE', 'RECOVD', 'VAX_DATE',\n",
              "       'ONSET_DATE', 'NUMDAYS', 'LAB_DATA', 'V_ADMINBY', 'V_FUNDBY',\n",
              "       'OTHER_MEDS', 'CUR_ILL', 'HISTORY', 'PRIOR_VAX', 'SPLTTYPE',\n",
              "       'FORM_VERS', 'TODAYS_DATE', 'BIRTH_DEFECT', 'OFC_VISIT', 'ER_ED_VISIT',\n",
              "       'ALLERGIES'],\n",
              "      dtype='object')"
            ]
          },
          "metadata": {
            "tags": []
          },
          "execution_count": 3
        }
      ]
    },
    {
      "cell_type": "markdown",
      "metadata": {
        "id": "Js9gJJiD_-to"
      },
      "source": [
        "1. Which age group experience more symptoms?\n",
        "2. Why are they die?\n",
        "3. Any corr between L_THREAT and DIED?"
      ]
    },
    {
      "cell_type": "code",
      "metadata": {
        "colab": {
          "base_uri": "https://localhost:8080/"
        },
        "id": "K1xq9NKc--0Z",
        "outputId": "094cb3b3-57e6-43f0-af27-5138e5c7504f"
      },
      "source": [
        "vaers_sym = pd.read_csv(filepath_or_buffer='/content/drive/MyDrive/Bangkit Capstone Project Team/Notebooks/2021VAERSData/2021VAERSSYMPTOMS.csv', sep=',', encoding = \"ISO-8859-1\")\n",
        "vaers_sym.columns"
      ],
      "execution_count": 132,
      "outputs": [
        {
          "output_type": "execute_result",
          "data": {
            "text/plain": [
              "Index(['VAERS_ID', 'SYMPTOM1', 'SYMPTOMVERSION1', 'SYMPTOM2',\n",
              "       'SYMPTOMVERSION2', 'SYMPTOM3', 'SYMPTOMVERSION3', 'SYMPTOM4',\n",
              "       'SYMPTOMVERSION4', 'SYMPTOM5', 'SYMPTOMVERSION5'],\n",
              "      dtype='object')"
            ]
          },
          "metadata": {
            "tags": []
          },
          "execution_count": 132
        }
      ]
    },
    {
      "cell_type": "code",
      "metadata": {
        "id": "2UlvScQwC6ij"
      },
      "source": [
        "vaers_sym = vaers_sym[['VAERS_ID','SYMPTOM1','SYMPTOM2','SYMPTOM3','SYMPTOM4','SYMPTOM5']]"
      ],
      "execution_count": 133,
      "outputs": []
    },
    {
      "cell_type": "markdown",
      "metadata": {
        "id": "CceJil1MGFkj"
      },
      "source": [
        "# Finding top N terms "
      ]
    },
    {
      "cell_type": "code",
      "metadata": {
        "id": "-BirWJ4hETJa"
      },
      "source": [
        "concatvalues = np.concatenate([vaers_sym.SYMPTOM1.values,vaers_sym.SYMPTOM2.values, vaers_sym.SYMPTOM3.values, vaers_sym.SYMPTOM4.values,\n",
        "                               vaers_sym.SYMPTOM5.values])"
      ],
      "execution_count": 134,
      "outputs": []
    },
    {
      "cell_type": "code",
      "metadata": {
        "id": "SDBo6iPpMjJs"
      },
      "source": [
        "vaersym = pd.DataFrame(concatvalues, columns=['symptom']).dropna()"
      ],
      "execution_count": 135,
      "outputs": []
    },
    {
      "cell_type": "code",
      "metadata": {
        "id": "ILTy2Ka1FTd8"
      },
      "source": [
        "import re\n",
        "vaersym['symptom'] = vaersym['symptom'].apply(lambda x: x.lower())\n",
        "vaersym['symptom'] = vaersym['symptom'].apply(lambda x: re.sub('[^A-Za-z0-9 ]+', '', x.strip()))"
      ],
      "execution_count": 136,
      "outputs": []
    },
    {
      "cell_type": "code",
      "metadata": {
        "id": "sXZD0ESgNaQk"
      },
      "source": [
        "vaersym = pd.DataFrame(vaersym.value_counts()).reset_index()\n",
        "vaersym.columns = ['symptom','count']"
      ],
      "execution_count": 137,
      "outputs": []
    },
    {
      "cell_type": "code",
      "metadata": {
        "colab": {
          "base_uri": "https://localhost:8080/"
        },
        "id": "5WRRdNGObZKU",
        "outputId": "bbc890d6-5fc2-4fb6-b4a2-0736337ed426"
      },
      "source": [
        "feature = vaersym.head(20)\n",
        "feature['gejala'] = ['Sakit kepala','demam','menggigil','kelelahan','nyeri','mual/muntah','pusing','nyeri parah','sakit di tempat suntik',\n",
        "                     'nyeri otot','kemerahanan di tempat suntik','nyeri sendi','sesak napas','gatal-gatal','pembengkakan di tempat suntik',\n",
        "                     'muntah','ruam','lemah','gatal di tempat suntik','kemerahan']\n",
        "feature = feature.drop([1,4,6,7,15,16,17, 19])"
      ],
      "execution_count": 138,
      "outputs": [
        {
          "output_type": "stream",
          "text": [
            "/usr/local/lib/python3.7/dist-packages/ipykernel_launcher.py:4: SettingWithCopyWarning: \n",
            "A value is trying to be set on a copy of a slice from a DataFrame.\n",
            "Try using .loc[row_indexer,col_indexer] = value instead\n",
            "\n",
            "See the caveats in the documentation: https://pandas.pydata.org/pandas-docs/stable/user_guide/indexing.html#returning-a-view-versus-a-copy\n",
            "  after removing the cwd from sys.path.\n"
          ],
          "name": "stderr"
        }
      ]
    },
    {
      "cell_type": "code",
      "metadata": {
        "id": "pfe5B5vmrV_R",
        "colab": {
          "base_uri": "https://localhost:8080/"
        },
        "outputId": "e50bd6ab-308b-4d9e-abfa-cf3a9bc2a293"
      },
      "source": [
        "feature2 = vaersym.iloc[[20,21,22,25,26,27,30,31,32,33,35,42,43,47]]\n",
        "feature2['gejala']=['keringat berlebih','diare', 'kesemutan','biduran','mati rasa', 'limfadenopati','batuk','tremor','detak jatung meningkat','sakit pada dada','bengkak kaki/tangan', 'covid-19','pingsan','sakit leher']"
      ],
      "execution_count": 140,
      "outputs": [
        {
          "output_type": "stream",
          "text": [
            "/usr/local/lib/python3.7/dist-packages/ipykernel_launcher.py:2: SettingWithCopyWarning: \n",
            "A value is trying to be set on a copy of a slice from a DataFrame.\n",
            "Try using .loc[row_indexer,col_indexer] = value instead\n",
            "\n",
            "See the caveats in the documentation: https://pandas.pydata.org/pandas-docs/stable/user_guide/indexing.html#returning-a-view-versus-a-copy\n",
            "  \n"
          ],
          "name": "stderr"
        }
      ]
    },
    {
      "cell_type": "code",
      "metadata": {
        "id": "WVTc3IwMrkMB"
      },
      "source": [
        "feature = feature.append(feature2, ignore_index=True)"
      ],
      "execution_count": 143,
      "outputs": []
    },
    {
      "cell_type": "code",
      "metadata": {
        "colab": {
          "base_uri": "https://localhost:8080/"
        },
        "id": "P58Vv5mN0ORd",
        "outputId": "54b51925-556d-4890-96bf-0e8e25aef916"
      },
      "source": [
        "feature_all = vaersym.head(50)['symptom']\n",
        "feature_all"
      ],
      "execution_count": 145,
      "outputs": [
        {
          "output_type": "execute_result",
          "data": {
            "text/plain": [
              "0                       headache\n",
              "1                        pyrexia\n",
              "2                         chills\n",
              "3                        fatigue\n",
              "4                           pain\n",
              "5                         nausea\n",
              "6                      dizziness\n",
              "7              pain in extremity\n",
              "8            injection site pain\n",
              "9                        myalgia\n",
              "10       injection site erythema\n",
              "11                    arthralgia\n",
              "12                      dyspnoea\n",
              "13                      pruritus\n",
              "14       injection site swelling\n",
              "15                      vomiting\n",
              "16                          rash\n",
              "17                      asthenia\n",
              "18       injection site pruritus\n",
              "19                      erythema\n",
              "20                 hyperhidrosis\n",
              "21                     diarrhoea\n",
              "22                  paraesthesia\n",
              "23         injection site warmth\n",
              "24                       malaise\n",
              "25                     urticaria\n",
              "26                 hypoaesthesia\n",
              "27               lymphadenopathy\n",
              "28              feeling abnormal\n",
              "29                         death\n",
              "30                         cough\n",
              "31                        tremor\n",
              "32          heart rate increased\n",
              "33              chest discomfort\n",
              "34                    chest pain\n",
              "35           peripheral swelling\n",
              "36                   feeling hot\n",
              "37                     back pain\n",
              "38           injection site rash\n",
              "39    body temperature increased\n",
              "40                  palpitations\n",
              "41        sarscov2 test positive\n",
              "42                       covid19\n",
              "43                       syncope\n",
              "44        sarscov2 test negative\n",
              "45                 sarscov2 test\n",
              "46            decreased appetite\n",
              "47                     neck pain\n",
              "48                      flushing\n",
              "49                     skin warm\n",
              "Name: symptom, dtype: object"
            ]
          },
          "metadata": {
            "tags": []
          },
          "execution_count": 145
        }
      ]
    },
    {
      "cell_type": "code",
      "metadata": {
        "colab": {
          "base_uri": "https://localhost:8080/"
        },
        "id": "Yy6JG4Vh39yF",
        "outputId": "677a242c-2140-4556-993e-ad04e2d1fa22"
      },
      "source": [
        "print(\"Input you symptoms:\")\n",
        "input_sym = input(\"\").split(',')\n",
        "predict(input_sym)"
      ],
      "execution_count": null,
      "outputs": [
        {
          "output_type": "stream",
          "text": [
            "Input you symptoms:\n",
            "a,b,c,d\n"
          ],
          "name": "stdout"
        }
      ]
    },
    {
      "cell_type": "markdown",
      "metadata": {
        "id": "GLU7RuxMK8qq"
      },
      "source": [
        "# Modelling"
      ]
    },
    {
      "cell_type": "code",
      "metadata": {
        "id": "STad9uynBtb8"
      },
      "source": [
        "vaers_df['label'] = vaers_df[['DIED', 'L_THREAT', 'ER_VISIT', 'HOSPITAL', 'ER_ED_VISIT']].notnull().T.any()"
      ],
      "execution_count": 146,
      "outputs": []
    },
    {
      "cell_type": "code",
      "metadata": {
        "colab": {
          "base_uri": "https://localhost:8080/",
          "height": 351
        },
        "id": "3SfVwcxeKH89",
        "outputId": "86b0d44e-050d-4a71-9e5c-772bbabb249c"
      },
      "source": [
        "sns.countplot(vaers_df['label'])"
      ],
      "execution_count": 147,
      "outputs": [
        {
          "output_type": "stream",
          "text": [
            "/usr/local/lib/python3.7/dist-packages/seaborn/_decorators.py:43: FutureWarning: Pass the following variable as a keyword arg: x. From version 0.12, the only valid positional argument will be `data`, and passing other arguments without an explicit keyword will result in an error or misinterpretation.\n",
            "  FutureWarning\n"
          ],
          "name": "stderr"
        },
        {
          "output_type": "execute_result",
          "data": {
            "text/plain": [
              "<matplotlib.axes._subplots.AxesSubplot at 0x7fe21fcd3450>"
            ]
          },
          "metadata": {
            "tags": []
          },
          "execution_count": 147
        },
        {
          "output_type": "display_data",
          "data": {
            "image/png": "[encoded data removed]",
            "text/plain": [
              "<Figure size 432x288 with 1 Axes>"
            ]
          },
          "metadata": {
            "tags": [],
            "needs_background": "light"
          }
        }
      ]
    },
    {
      "cell_type": "code",
      "metadata": {
        "id": "LhPH2uRjJEc3"
      },
      "source": [
        "X = vaers_sym.fillna('')\n",
        "X['text']=X['SYMPTOM1']+\" \"+X['SYMPTOM2']+\" \"+X['SYMPTOM3']+\" \"+X['SYMPTOM4']+\" \"+X['SYMPTOM5']\n",
        "X = X.drop(['SYMPTOM1','SYMPTOM2','SYMPTOM3','SYMPTOM4','SYMPTOM5'], axis=1)\n",
        "Z = X.groupby('VAERS_ID')['text'].transform(lambda x:' '.join(x))"
      ],
      "execution_count": 151,
      "outputs": []
    },
    {
      "cell_type": "code",
      "metadata": {
        "id": "-ST64IBNM31z"
      },
      "source": [
        "X['text']=Z"
      ],
      "execution_count": 153,
      "outputs": []
    },
    {
      "cell_type": "code",
      "metadata": {
        "id": "o00UGFZrOddD"
      },
      "source": [
        "X = X.drop_duplicates()"
      ],
      "execution_count": 154,
      "outputs": []
    },
    {
      "cell_type": "code",
      "metadata": {
        "id": "6DvTdV-nM7pb"
      },
      "source": [
        "X_label = vaers_df[['VAERS_ID','label']]\n",
        "X = X.merge(X_label, on=['VAERS_ID'], how='inner')"
      ],
      "execution_count": 156,
      "outputs": []
    },
    {
      "cell_type": "code",
      "metadata": {
        "id": "aWlQFyUpKI8l"
      },
      "source": [
        "from sklearn.preprocessing import LabelEncoder, Normalizer, StandardScaler, MinMaxScaler, scale\n",
        "from sklearn.model_selection import train_test_split\n",
        "from sklearn.linear_model import Ridge, RidgeCV, Lasso, LassoCV, LinearRegression\n",
        "from sklearn.metrics import mean_squared_error\n",
        "from sklearn.metrics import mean_absolute_error\n",
        "from sklearn.metrics import r2_score\n",
        " \n",
        "import statsmodels.api as sm\n",
        " \n",
        "import tensorflow as tf"
      ],
      "execution_count": 158,
      "outputs": []
    },
    {
      "cell_type": "code",
      "metadata": {
        "id": "IuuD4pRVKRzO"
      },
      "source": [
        "model = tf.keras.Sequential([\n",
        "    tf.keras.layers.Embedding(vocab_size, embedding_dim, input_length=max_length),\n",
        "    # tf.keras.layers.Bidirectional(tf.keras.layers.LSTM(64, return_sequences=True)),\n",
        "    tf.keras.layers.Bidirectional(tf.keras.layers.LSTM(64)),\n",
        "    tf.keras.layers.Dense(256, activation='relu'),\n",
        "    tf.keras.layers.Dropout(0.5),\n",
        "    tf.keras.layers.Dense(1, activation='sigmoid')\n",
        "])\n",
        "model.compile(loss='binary_crossentropy',optimizer=tf.keras.optimizers.RMSprop(1e-4),metrics=['accuracy'])\n",
        "model.summary()"
      ],
      "execution_count": null,
      "outputs": []
    },
    {
      "cell_type": "code",
      "metadata": {
        "id": "yWymVFrHKV6d"
      },
      "source": [
        "num_epochs = 5\n",
        "history = model.fit(padded, y_train, batch_size=128, epochs=num_epochs, validation_data=(testing_padded, y_test))"
      ],
      "execution_count": null,
      "outputs": []
    },
    {
      "cell_type": "code",
      "metadata": {
        "id": "gTJmtVa0Kcmi"
      },
      "source": [
        "np.quantile(X['text'].apply(lambda y: len(y)), 0.75)"
      ],
      "execution_count": null,
      "outputs": []
    },
    {
      "cell_type": "code",
      "metadata": {
        "id": "zuQ-mlDhUjaK"
      },
      "source": [
        ""
      ],
      "execution_count": null,
      "outputs": []
    }
  ]
}